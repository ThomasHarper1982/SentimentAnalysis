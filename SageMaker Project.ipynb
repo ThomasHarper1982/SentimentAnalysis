{
 "cells": [
  {
   "cell_type": "markdown",
   "metadata": {},
   "source": [
    "# Creating a Sentiment Analysis Web App\n",
    "## Using PyTorch and SageMaker\n",
    "\n",
    "_Deep Learning Nanodegree Program | Deployment_\n",
    "\n",
    "---\n",
    "\n",
    "Now that we have a basic understanding of how SageMaker works we will try to use it to construct a complete project from end to end. Our goal will be to have a simple web page which a user can use to enter a movie review. The web page will then send the review off to our deployed model which will predict the sentiment of the entered review.\n",
    "\n",
    "## Instructions\n",
    "\n",
    "Some template code has already been provided for you, and you will need to implement additional functionality to successfully complete this notebook. You will not need to modify the included code beyond what is requested. Sections that begin with '**TODO**' in the header indicate that you need to complete or implement some portion within them. Instructions will be provided for each section and the specifics of the implementation are marked in the code block with a `# TODO: ...` comment. Please be sure to read the instructions carefully!\n",
    "\n",
    "In addition to implementing code, there will be questions for you to answer which relate to the task and your implementation. Each section where you will answer a question is preceded by a '**Question:**' header. Carefully read each question and provide your answer below the '**Answer:**' header by editing the Markdown cell.\n",
    "\n",
    "> **Note**: Code and Markdown cells can be executed using the **Shift+Enter** keyboard shortcut. In addition, a cell can be edited by typically clicking it (double-click for Markdown cells) or by pressing **Enter** while it is highlighted.\n",
    "\n",
    "## General Outline\n",
    "\n",
    "Recall the general outline for SageMaker projects using a notebook instance.\n",
    "\n",
    "1. Download or otherwise retrieve the data.\n",
    "2. Process / Prepare the data.\n",
    "3. Upload the processed data to S3.\n",
    "4. Train a chosen model.\n",
    "5. Test the trained model (typically using a batch transform job).\n",
    "6. Deploy the trained model.\n",
    "7. Use the deployed model.\n",
    "\n",
    "For this project, you will be following the steps in the general outline with some modifications. \n",
    "\n",
    "First, you will not be testing the model in its own step. You will still be testing the model, however, you will do it by deploying your model and then using the deployed model by sending the test data to it. One of the reasons for doing this is so that you can make sure that your deployed model is working correctly before moving forward.\n",
    "\n",
    "In addition, you will deploy and use your trained model a second time. In the second iteration you will customize the way that your trained model is deployed by including some of your own code. In addition, your newly deployed model will be used in the sentiment analysis web app."
   ]
  },
  {
   "cell_type": "markdown",
   "metadata": {},
   "source": [
    "## Step 1: Downloading the data\n",
    "\n",
    "As in the XGBoost in SageMaker notebook, we will be using the [IMDb dataset](http://ai.stanford.edu/~amaas/data/sentiment/)\n",
    "\n",
    "> Maas, Andrew L., et al. [Learning Word Vectors for Sentiment Analysis](http://ai.stanford.edu/~amaas/data/sentiment/). In _Proceedings of the 49th Annual Meeting of the Association for Computational Linguistics: Human Language Technologies_. Association for Computational Linguistics, 2011."
   ]
  },
  {
   "cell_type": "code",
   "execution_count": 78,
   "metadata": {},
   "outputs": [
    {
     "name": "stdout",
     "output_type": "stream",
     "text": [
      "mkdir: cannot create directory ‘../data’: File exists\n",
      "--2019-01-20 22:35:18--  http://ai.stanford.edu/~amaas/data/sentiment/aclImdb_v1.tar.gz\n",
      "Resolving ai.stanford.edu (ai.stanford.edu)... 171.64.68.10\n",
      "Connecting to ai.stanford.edu (ai.stanford.edu)|171.64.68.10|:80... connected.\n",
      "HTTP request sent, awaiting response... 200 OK\n",
      "Length: 84125825 (80M) [application/x-gzip]\n",
      "Saving to: ‘../data/aclImdb_v1.tar.gz’\n",
      "\n",
      "../data/aclImdb_v1. 100%[===================>]  80.23M  10.2MB/s    in 9.9s    \n",
      "\n",
      "2019-01-20 22:35:28 (8.11 MB/s) - ‘../data/aclImdb_v1.tar.gz’ saved [84125825/84125825]\n",
      "\n"
     ]
    }
   ],
   "source": [
    "#%mkdir ../data\n",
    "#!wget -O ../data/aclImdb_v1.tar.gz http://ai.stanford.edu/~amaas/data/sentiment/aclImdb_v1.tar.gz\n",
    "#!tar -zxf ../data/aclImdb_v1.tar.gz -C ../data"
   ]
  },
  {
   "cell_type": "markdown",
   "metadata": {},
   "source": [
    "## Step 2: Preparing and Processing the data\n",
    "\n",
    "Also, as in the XGBoost notebook, we will be doing some initial data processing. The first few steps are the same as in the XGBoost example. To begin with, we will read in each of the reviews and combine them into a single input structure. Then, we will split the dataset into a training set and a testing set."
   ]
  },
  {
   "cell_type": "code",
   "execution_count": 1,
   "metadata": {},
   "outputs": [],
   "source": [
    "import os\n",
    "import glob\n",
    "\n",
    "def read_imdb_data(data_dir='../data/aclImdb'):\n",
    "    data = {}\n",
    "    labels = {}\n",
    "    \n",
    "    for data_type in ['train', 'test']:\n",
    "        data[data_type] = {}\n",
    "        labels[data_type] = {}\n",
    "        \n",
    "        for sentiment in ['pos', 'neg']:\n",
    "            data[data_type][sentiment] = []\n",
    "            labels[data_type][sentiment] = []\n",
    "            \n",
    "            path = os.path.join(data_dir, data_type, sentiment, '*.txt')\n",
    "            files = glob.glob(path)\n",
    "            \n",
    "            for f in files:\n",
    "                with open(f) as review:\n",
    "                    data[data_type][sentiment].append(review.read())\n",
    "                    # Here we represent a positive review by '1' and a negative review by '0'\n",
    "                    labels[data_type][sentiment].append(1 if sentiment == 'pos' else 0)\n",
    "                    \n",
    "            assert len(data[data_type][sentiment]) == len(labels[data_type][sentiment]), \\\n",
    "                    \"{}/{} data size does not match labels size\".format(data_type, sentiment)\n",
    "                \n",
    "    return data, labels"
   ]
  },
  {
   "cell_type": "code",
   "execution_count": 2,
   "metadata": {},
   "outputs": [
    {
     "name": "stdout",
     "output_type": "stream",
     "text": [
      "IMDB reviews: train = 12500 pos / 12500 neg, test = 12500 pos / 12500 neg\n"
     ]
    }
   ],
   "source": [
    "data, labels = read_imdb_data()\n",
    "print(\"IMDB reviews: train = {} pos / {} neg, test = {} pos / {} neg\".format(\n",
    "            len(data['train']['pos']), len(data['train']['neg']),\n",
    "            len(data['test']['pos']), len(data['test']['neg'])))"
   ]
  },
  {
   "cell_type": "markdown",
   "metadata": {},
   "source": [
    "Now that we've read the raw training and testing data from the downloaded dataset, we will combine the positive and negative reviews and shuffle the resulting records."
   ]
  },
  {
   "cell_type": "code",
   "execution_count": 39,
   "metadata": {},
   "outputs": [],
   "source": [
    "from sklearn.utils import shuffle\n",
    "\n",
    "def prepare_imdb_data(data, labels):\n",
    "    \"\"\"Prepare training and test sets from IMDb movie reviews.\"\"\"\n",
    "    \n",
    "    #Combine positive and negative reviews and labels\n",
    "    data_train = data['train']['pos'] + data['train']['neg']\n",
    "    data_test = data['test']['pos'] + data['test']['neg']\n",
    "    labels_train = labels['train']['pos'] + labels['train']['neg']\n",
    "    labels_test = labels['test']['pos'] + labels['test']['neg']\n",
    "    \n",
    "    #Shuffle reviews and corresponding labels within training and test sets\n",
    "    data_train, labels_train = shuffle(data_train, labels_train)\n",
    "    data_test, labels_test = shuffle(data_test, labels_test)\n",
    "    \n",
    "    # Return a unified training data, test data, training labels, test labets\n",
    "    return data_train, data_test, labels_train, labels_test"
   ]
  },
  {
   "cell_type": "code",
   "execution_count": 40,
   "metadata": {},
   "outputs": [
    {
     "name": "stdout",
     "output_type": "stream",
     "text": [
      "IMDb reviews (combined): train = 25000, test = 25000\n"
     ]
    }
   ],
   "source": [
    "train_X, test_X, train_y, test_y = prepare_imdb_data(data, labels)\n",
    "print(\"IMDb reviews (combined): train = {}, test = {}\".format(len(train_X), len(test_X)))"
   ]
  },
  {
   "cell_type": "markdown",
   "metadata": {},
   "source": [
    "Now that we have our training and testing sets unified and prepared, we should do a quick check and see an example of the data our model will be trained on. This is generally a good idea as it allows you to see how each of the further processing steps affects the reviews and it also ensures that the data has been loaded correctly."
   ]
  },
  {
   "cell_type": "code",
   "execution_count": 6,
   "metadata": {},
   "outputs": [
    {
     "name": "stdout",
     "output_type": "stream",
     "text": [
      "Surviving Christmas is a surprisingly funny movie especially considering the bad publicity when it was first released. Ben Affleck is funny as an obnoxious millionaire who pays the family that occupies his childhood home to be his family for Christmas. He then drives the family crazy with overindulgence for Christmas cheer. I have not been a Ben Affleck fan in the past (though I did like Daredevil and Paycheck) but here he is well cast in this role. I also like Christina Applegate as the daughter in the family who can't stand Affleck's character at first. Sure you can see where this movie is going but you don't care. Ignore what the critics say and rent this movie out because it is funnier than a lot of Christmas movies.\n",
      "1\n"
     ]
    }
   ],
   "source": [
    "print(train_X[100])\n",
    "print(train_y[100])"
   ]
  },
  {
   "cell_type": "markdown",
   "metadata": {},
   "source": [
    "The first step in processing the reviews is to make sure that any html tags that appear should be removed. In addition we wish to tokenize our input, that way words such as *entertained* and *entertaining* are considered the same with regard to sentiment analysis."
   ]
  },
  {
   "cell_type": "code",
   "execution_count": 291,
   "metadata": {},
   "outputs": [],
   "source": [
    "import nltk\n",
    "from nltk.corpus import stopwords\n",
    "from nltk.stem.porter import *\n",
    "\n",
    "import re\n",
    "from bs4 import BeautifulSoup\n",
    "\n",
    "def review_to_words(review):\n",
    "    nltk.download(\"stopwords\", quiet=True)\n",
    "    stemmer = PorterStemmer()\n",
    "    \n",
    "    text = BeautifulSoup(review, \"html.parser\").get_text() # Remove HTML tags\n",
    "    text = re.sub(r\"[^a-zA-Z0-9]\", \" \", text.lower()) # Convert to lower case\n",
    "    words = text.split() # Split string into words\n",
    "    words = [w for w in words if w not in stopwords.words(\"english\")] # Remove stopwords\n",
    "    words = [PorterStemmer().stem(w) for w in words] # stem\n",
    "    \n",
    "    return words"
   ]
  },
  {
   "cell_type": "markdown",
   "metadata": {},
   "source": [
    "The `review_to_words` method defined above uses `BeautifulSoup` to remove any html tags that appear and uses the `nltk` package to tokenize the reviews. As a check to ensure we know how everything is working, try applying `review_to_words` to one of the reviews in the training set."
   ]
  },
  {
   "cell_type": "code",
   "execution_count": 42,
   "metadata": {},
   "outputs": [
    {
     "name": "stdout",
     "output_type": "stream",
     "text": [
      "Ok, so it may not be the award-winning \"movie of the year\" type-film (apart from the brilliant soundtrack that I think won a few awards), but it is a really great film about 'The Kid' (Prince / O( take your pick) and the happenings around him living in Minneapolis, playing his music. The music is absolutely superb, in my opinion you HAVE to own this soundtrack, it is truly a classic and sums up the eighties sounds and feel in a wonderful fashion. And the movie itself plays out a nice plot, it's worth seeing over and over again, espeically if you like Prince / O (which I do) of course.\n",
      "['absolut', 'apart', 'around', 'award', 'award', 'brilliant', 'classic', 'cours', 'eighti', 'espeic', 'fashion', 'feel', 'film', 'film', 'great', 'happen', 'kid', 'like', 'live', 'may', 'minneapoli', 'movi', 'movi', 'music', 'music', 'nice', 'ok', 'opinion', 'pick', 'play', 'play', 'plot', 'princ', 'princ', 'realli', 'see', 'sound', 'soundtrack', 'soundtrack', 'sum', 'superb', 'take', 'think', 'truli', 'type', 'win', 'wonder', 'worth', 'year']\n"
     ]
    }
   ],
   "source": [
    "# TODO: Apply review_to_words to a review (train_X[100] or any other review)\n",
    "#print(review_to_words(train_X[100]))\n",
    "a = review_to_words(train_X[100])\n",
    "a.sort()\n",
    "print(train_X[100])\n",
    "print(a)"
   ]
  },
  {
   "cell_type": "code",
   "execution_count": 43,
   "metadata": {},
   "outputs": [
    {
     "name": "stdout",
     "output_type": "stream",
     "text": [
      "['adventur', 'basic', 'best', 'charm', 'combin', 'fair', 'film', 'life', 'love', 'movi', 'one', 'pleasur', 'rather', 'simplest', 'storylin', 'transcend', 'unmitig', 'usual', 'weekend', 'wit']\n"
     ]
    }
   ],
   "source": [
    "test_review = 'The simplest pleasures in life are the best, and this film is one of them. Combining a rather basic storyline of love and adventure this movie transcends the usual weekend fair with wit and unmitigated charm.'\n",
    "a = review_to_words(test_review)\n",
    "a.sort()\n",
    "print(a)"
   ]
  },
  {
   "cell_type": "markdown",
   "metadata": {},
   "source": [
    "**Question:** Above we mentioned that `review_to_words` method removes html formatting and allows us to tokenize the words found in a review, for example, converting *entertained* and *entertaining* into *entertain* so that they are treated as though they are the same word. What else, if anything, does this method do to the input?"
   ]
  },
  {
   "cell_type": "markdown",
   "metadata": {},
   "source": [
    "**Answer:**\n",
    "In addtion to tokenizing and removing httml tags, It also reduces words to their stem word."
   ]
  },
  {
   "cell_type": "markdown",
   "metadata": {},
   "source": [
    "The method below applies the `review_to_words` method to each of the reviews in the training and testing datasets. In addition it caches the results. This is because performing this processing step can take a long time. This way if you are unable to complete the notebook in the current session, you can come back without needing to process the data a second time."
   ]
  },
  {
   "cell_type": "code",
   "execution_count": 44,
   "metadata": {},
   "outputs": [],
   "source": [
    "import pickle\n",
    "\n",
    "cache_dir = os.path.join(\"../cache\", \"sentiment_analysis\")  # where to store cache files\n",
    "os.makedirs(cache_dir, exist_ok=True)  # ensure cache directory exists\n",
    "\n",
    "def preprocess_data(data_train, data_test, labels_train, labels_test,\n",
    "                    cache_dir=cache_dir, cache_file=\"preprocessed_data.pkl\"):\n",
    "    \"\"\"Convert each review to words; read from cache if available.\"\"\"\n",
    "\n",
    "    # If cache_file is not None, try to read from it first\n",
    "    cache_data = None\n",
    "    if cache_file is not None:\n",
    "        try:\n",
    "            with open(os.path.join(cache_dir, cache_file), \"rb\") as f:\n",
    "                cache_data = pickle.load(f)\n",
    "            print(\"Read preprocessed data from cache file:\", cache_file)\n",
    "        except:\n",
    "            pass  # unable to read from cache, but that's okay\n",
    "    \n",
    "    # If cache is missing, then do the heavy lifting\n",
    "    if cache_data is None:\n",
    "        # Preprocess training and test data to obtain words for each review\n",
    "        #words_train = list(map(review_to_words, data_train))\n",
    "        #words_test = list(map(review_to_words, data_test))\n",
    "        words_train = [review_to_words(review) for review in data_train]\n",
    "        words_test = [review_to_words(review) for review in data_test]\n",
    "        \n",
    "        # Write to cache file for future runs\n",
    "        if cache_file is not None:\n",
    "            cache_data = dict(words_train=words_train, words_test=words_test,\n",
    "                              labels_train=labels_train, labels_test=labels_test)\n",
    "            with open(os.path.join(cache_dir, cache_file), \"wb\") as f:\n",
    "                pickle.dump(cache_data, f)\n",
    "            print(\"Wrote preprocessed data to cache file:\", cache_file)\n",
    "    else:\n",
    "        # Unpack data loaded from cache file\n",
    "        words_train, words_test, labels_train, labels_test = (cache_data['words_train'],\n",
    "                cache_data['words_test'], cache_data['labels_train'], cache_data['labels_test'])\n",
    "    \n",
    "    return words_train, words_test, labels_train, labels_test"
   ]
  },
  {
   "cell_type": "code",
   "execution_count": 71,
   "metadata": {},
   "outputs": [
    {
     "name": "stdout",
     "output_type": "stream",
     "text": [
      "Read preprocessed data from cache file: preprocessed_data.pkl\n"
     ]
    }
   ],
   "source": [
    "# Preprocess data\n",
    "train_X, test_X, train_y, test_y = preprocess_data(train_X, test_X, train_y, test_y)"
   ]
  },
  {
   "cell_type": "markdown",
   "metadata": {},
   "source": [
    "## Transform the data\n",
    "\n",
    "In the XGBoost notebook we transformed the data from its word representation to a bag-of-words feature representation. For the model we are going to construct in this notebook we will construct a feature representation which is very similar. To start, we will represent each word as an integer. Of course, some of the words that appear in the reviews occur very infrequently and so likely don't contain much information for the purposes of sentiment analysis. The way we will deal with this problem is that we will fix the size of our working vocabulary and we will only include the words that appear most frequently. We will then combine all of the infrequent words into a single category and, in our case, we will label it as `1`.\n",
    "\n",
    "Since we will be using a recurrent neural network, it will be convenient if the length of each review is the same. To do this, we will fix a size for our reviews and then pad short reviews with the category 'no word' (which we will label `0`) and truncate long reviews."
   ]
  },
  {
   "cell_type": "markdown",
   "metadata": {},
   "source": [
    "### (TODO) Create a word dictionary\n",
    "\n",
    "To begin with, we need to construct a way to map words that appear in the reviews to integers. Here we fix the size of our vocabulary (including the 'no word' and 'infrequent' categories) to be `5000` but you may wish to change this to see how it affects the model.\n",
    "\n",
    "> **TODO:** Complete the implementation for the `build_dict()` method below. Note that even though the vocab_size is set to `5000`, we only want to construct a mapping for the most frequently appearing `4998` words. This is because we want to reserve the special labels `0` for 'no word' and `1` for 'infrequent word'."
   ]
  },
  {
   "cell_type": "code",
   "execution_count": 72,
   "metadata": {},
   "outputs": [],
   "source": [
    "import numpy as np\n",
    "from collections import Counter\n",
    "import sys\n",
    "\n",
    "def build_dict(data, vocab_size = 5000):\n",
    "    \"\"\"Construct and return a dictionary mapping each of the most frequently appearing words to a unique integer.\"\"\"\n",
    "    \n",
    "    # TODO: Determine how often each word appears in `data`. Note that `data` is a list of sentences and that a\n",
    "    #       sentence is a list of words.\n",
    "    \n",
    "    word_count = Counter() # A dict storing the words that appear in the reviews along with how often they occur\n",
    "    for sentence in data:\n",
    "        words = sentence[0].split(\" \")\n",
    "        for word in words:\n",
    "            word_count[word] += 1\n",
    "    \n",
    "    # TODO: Sort the words found in `data` so that sorted_words[0] is the most frequently appearing word and\n",
    "    #       sorted_words[-1] is the least frequently appearing word.\n",
    "    freq_ordered_words = word_count.most_common();\n",
    "    sorted_words = list(map(lambda x: x[0], freq_ordered_words))\n",
    "    word_dict = {} # This is what we are building, a dictionary that translates words into integers\n",
    "    for idx, word in enumerate(sorted_words[:vocab_size - 2]): # The -2 is so that we save room for the 'no word'\n",
    "        word_dict[word] = idx + 2                              # 'infrequent' labels\n",
    "        \n",
    "    return word_dict"
   ]
  },
  {
   "cell_type": "code",
   "execution_count": 73,
   "metadata": {},
   "outputs": [],
   "source": [
    "word_dict = build_dict(train_X)"
   ]
  },
  {
   "cell_type": "markdown",
   "metadata": {},
   "source": [
    "**Question:** What are the five most frequently appearing (tokenized) words in the training set? Does it makes sense that these words appear frequently in the training set?"
   ]
  },
  {
   "cell_type": "markdown",
   "metadata": {},
   "source": [
    "**Answer:**"
   ]
  },
  {
   "cell_type": "code",
   "execution_count": 265,
   "metadata": {},
   "outputs": [
    {
     "data": {
      "text/plain": [
       "['movi', 'film', 'one', 'first', 'saw']"
      ]
     },
     "execution_count": 265,
     "metadata": {},
     "output_type": "execute_result"
    }
   ],
   "source": [
    "# TODO: Use this space to determine the five most frequently appearing words in the training set.\n",
    "list(word_dict.keys())[:5]"
   ]
  },
  {
   "cell_type": "markdown",
   "metadata": {},
   "source": [
    "### Save `word_dict`\n",
    "\n",
    "Later on when we construct an endpoint which processes a submitted review we will need to make use of the `word_dict` which we have created. As such, we will save it to a file now for future use."
   ]
  },
  {
   "cell_type": "code",
   "execution_count": 75,
   "metadata": {},
   "outputs": [],
   "source": [
    "data_dir = '../data/pytorch' # The folder we will use for storing data\n",
    "if not os.path.exists(data_dir): # Make sure that the folder exists\n",
    "    os.makedirs(data_dir)"
   ]
  },
  {
   "cell_type": "code",
   "execution_count": 76,
   "metadata": {},
   "outputs": [],
   "source": [
    "with open(os.path.join(data_dir, 'word_dict.pkl'), \"wb\") as f:\n",
    "    pickle.dump(word_dict, f)"
   ]
  },
  {
   "cell_type": "markdown",
   "metadata": {},
   "source": [
    "### Transform the reviews\n",
    "\n",
    "Now that we have our word dictionary which allows us to transform the words appearing in the reviews into integers, it is time to make use of it and convert our reviews to their integer sequence representation, making sure to pad or truncate to a fixed length, which in our case is `500`."
   ]
  },
  {
   "cell_type": "code",
   "execution_count": 303,
   "metadata": {},
   "outputs": [],
   "source": [
    "import sys\n",
    "\n",
    "#method takes word_dictionary-> ordered_position e,g 2,3.., sentence in list, pads with 0s after pad max\n",
    "#1 is given to infrequent words not in word_dictionary\n",
    "def convert_and_pad(word_dict, sentence, pad=500):\n",
    "    NOWORD = 0 # We will use 0 to represent the 'no word' category\n",
    "    INFREQ = 1 # and we use 1 to represent the infrequent words, i.e., words not appearing in word_dict\n",
    "    \n",
    "    working_sentence = [NOWORD] * pad\n",
    "    \n",
    "    for word_index, word in enumerate(sentence[:pad]):\n",
    "       # print(\"word_index : {}, word {}\".format(word_index, word))\n",
    "        if word in word_dict:\n",
    "            working_sentence[word_index] = word_dict[word]\n",
    "        else:\n",
    "            working_sentence[word_index] = INFREQ\n",
    "   # print(working_sentence, min(len(sentence), pad))\n",
    "    #sys.exit(0)\n",
    "    return working_sentence, min(len(sentence), pad)\n",
    "\n",
    "def convert_and_pad_data(word_dict, data, pad=500):\n",
    "    result = []\n",
    "    lengths = []\n",
    "    \n",
    "    for sentence in data:\n",
    "        converted, leng = convert_and_pad(word_dict, sentence, pad)\n",
    "        result.append(converted)\n",
    "        lengths.append(leng)\n",
    "    return np.array(result), np.array(lengths)"
   ]
  },
  {
   "cell_type": "code",
   "execution_count": 78,
   "metadata": {},
   "outputs": [],
   "source": [
    "train_X, train_X_len = convert_and_pad_data(word_dict, train_X)\n",
    "test_X, test_X_len = convert_and_pad_data(word_dict, test_X)"
   ]
  },
  {
   "cell_type": "code",
   "execution_count": 266,
   "metadata": {},
   "outputs": [
    {
     "name": "stdout",
     "output_type": "stream",
     "text": [
      "[[  35  108 1688 ...    0    0    0]\n",
      " [1963  525    1 ...    0    0    0]\n",
      " [ 296    1   34 ...    0    0    0]\n",
      " [ 172 1119    8 ...    0    0    0]\n",
      " [  18  203  462 ...    0    0    0]] [56 72 19 70 74]\n"
     ]
    }
   ],
   "source": [
    "print(train_X[:5],train_X_len[:5])"
   ]
  },
  {
   "cell_type": "code",
   "execution_count": 174,
   "metadata": {},
   "outputs": [
    {
     "name": "stdout",
     "output_type": "stream",
     "text": [
      "[1, 420, 172, 61, 3, 4, 1373, 285, 161, 598, 9, 2606, 2, 1, 87, 1279, 831, 1357, 1, 477, 0, 0, 0, 0, 0, 0, 0, 0, 0, 0, 0, 0, 0, 0, 0, 0, 0, 0, 0, 0, 0, 0, 0, 0, 0, 0, 0, 0, 0, 0, 0, 0, 0, 0, 0, 0, 0, 0, 0, 0, 0, 0, 0, 0, 0, 0, 0, 0, 0, 0, 0, 0, 0, 0, 0, 0, 0, 0, 0, 0, 0, 0, 0, 0, 0, 0, 0, 0, 0, 0, 0, 0, 0, 0, 0, 0, 0, 0, 0, 0, 0, 0, 0, 0, 0, 0, 0, 0, 0, 0, 0, 0, 0, 0, 0, 0, 0, 0, 0, 0, 0, 0, 0, 0, 0, 0, 0, 0, 0, 0, 0, 0, 0, 0, 0, 0, 0, 0, 0, 0, 0, 0, 0, 0, 0, 0, 0, 0, 0, 0, 0, 0, 0, 0, 0, 0, 0, 0, 0, 0, 0, 0, 0, 0, 0, 0, 0, 0, 0, 0, 0, 0, 0, 0, 0, 0, 0, 0, 0, 0, 0, 0, 0, 0, 0, 0, 0, 0, 0, 0, 0, 0, 0, 0, 0, 0, 0, 0, 0, 0, 0, 0, 0, 0, 0, 0, 0, 0, 0, 0, 0, 0, 0, 0, 0, 0, 0, 0, 0, 0, 0, 0, 0, 0, 0, 0, 0, 0, 0, 0, 0, 0, 0, 0, 0, 0, 0, 0, 0, 0, 0, 0, 0, 0, 0, 0, 0, 0, 0, 0, 0, 0, 0, 0, 0, 0, 0, 0, 0, 0, 0, 0, 0, 0, 0, 0, 0, 0, 0, 0, 0, 0, 0, 0, 0, 0, 0, 0, 0, 0, 0, 0, 0, 0, 0, 0, 0, 0, 0, 0, 0, 0, 0, 0, 0, 0, 0, 0, 0, 0, 0, 0, 0, 0, 0, 0, 0, 0, 0, 0, 0, 0, 0, 0, 0, 0, 0, 0, 0, 0, 0, 0, 0, 0, 0, 0, 0, 0, 0, 0, 0, 0, 0, 0, 0, 0, 0, 0, 0, 0, 0, 0, 0, 0, 0, 0, 0, 0, 0, 0, 0, 0, 0, 0, 0, 0, 0, 0, 0, 0, 0, 0, 0, 0, 0, 0, 0, 0, 0, 0, 0, 0, 0, 0, 0, 0, 0, 0, 0, 0, 0, 0, 0, 0, 0, 0, 0, 0, 0, 0, 0, 0, 0, 0, 0, 0, 0, 0, 0, 0, 0, 0, 0, 0, 0, 0, 0, 0, 0, 0, 0, 0, 0, 0, 0, 0, 0, 0, 0, 0, 0, 0, 0, 0, 0, 0, 0, 0, 0, 0, 0, 0, 0, 0, 0, 0, 0, 0, 0, 0, 0, 0, 0, 0, 0, 0, 0, 0, 0, 0, 0, 0, 0, 0, 0, 0, 0, 0, 0, 0, 0, 0, 0, 0, 0, 0, 0, 0, 0, 0, 0, 0, 0, 0, 0, 0, 0, 0, 0, 0, 0, 0, 0, 0, 0, 0, 0, 0, 0, 0, 0, 0, 0, 0, 0, 0, 0, 0, 0, 0]\n"
     ]
    }
   ],
   "source": [
    "\n",
    "test_review = 'The simplest pleasures in life are the best, and this film is one of them. Combining a rather basic storyline of love and adventure this movie transcends the usual weekend fair with wit and unmitigated charm.'\n",
    "a = review_to_words(test_review)\n",
    "sample_X, sample_X_len =convert_and_pad(word_dict, a, pad=500)\n",
    "print(sample_X)"
   ]
  },
  {
   "cell_type": "markdown",
   "metadata": {},
   "source": [
    "As a quick check to make sure that things are working as intended, check to see what one of the reviews in the training set looks like after having been processeed. Does this look reasonable? What is the length of a review in the training set?"
   ]
  },
  {
   "cell_type": "code",
   "execution_count": 175,
   "metadata": {},
   "outputs": [
    {
     "name": "stdout",
     "output_type": "stream",
     "text": [
      "25000 25000\n",
      "[[  35  108 1688 ...    0    0    0]\n",
      " [1963  525    1 ...    0    0    0]\n",
      " [ 296    1   34 ...    0    0    0]\n",
      " [ 172 1119    8 ...    0    0    0]\n",
      " [  18  203  462 ...    0    0    0]] [56 72 19 70 74]\n"
     ]
    }
   ],
   "source": [
    "# Use this cell to examine one of the processed reviews to make sure everything is working as intended.\n",
    "print(len(train_X), len(train_X_len))\n",
    "print(train_X[:5], train_X_len[:5])"
   ]
  },
  {
   "cell_type": "markdown",
   "metadata": {},
   "source": [
    "**Question:** In the cells above we use the `preprocess_data` and `convert_and_pad_data` methods to process both the training and testing set. Why or why not might this be a problem?"
   ]
  },
  {
   "cell_type": "markdown",
   "metadata": {},
   "source": [
    "**Answer:**\n",
    "These methods transform the input data by maximizing the information by reducing the complexity, noise and length of sentences. Each review starts as a string and is transformed into a reduced list of common stem words. It might be a problem that we are fitlering out some common stop words if they contribute to the setence context in which sentiment is determined, and RNNs (LSTM) learn context in sequences.\n",
    "\n",
    "The word dictionary is based on the training data, and applied to both the test and training data. Of course we would expect a better result when applied to the training set for which it is made. But applying the training-based-dictionary is good for testing how representative the training data is in production.\n",
    "\n",
    "The way the code is written the transform can be re-applied to the same variable i.e X <= F[X], this can cause bugs if the code is executed twice.\n",
    "\n",
    "The functions convert_and_pad, review_to_words applied to training and test data sets will also need to be applied to user input values on a deployed server which may be challenging. E.G review_to_words will need to download the \"stopwords\". \n"
   ]
  },
  {
   "cell_type": "markdown",
   "metadata": {},
   "source": [
    "## Step 3: Upload the data to S3\n",
    "\n",
    "As in the XGBoost notebook, we will need to upload the training dataset to S3 in order for our training code to access it. For now we will save it locally and we will upload to S3 later on.\n",
    "\n",
    "### Save the processed training dataset locally\n",
    "\n",
    "It is important to note the format of the data that we are saving as we will need to know it when we write the training code. In our case, each row of the dataset has the form `label`, `length`, `review[500]` where `review[500]` is a sequence of `500` integers representing the words in the review."
   ]
  },
  {
   "cell_type": "code",
   "execution_count": 82,
   "metadata": {},
   "outputs": [],
   "source": [
    "import pandas as pd\n",
    "    \n",
    "pd.concat([pd.DataFrame(train_y), pd.DataFrame(train_X_len), pd.DataFrame(train_X)], axis=1) \\\n",
    "        .to_csv(os.path.join(data_dir, 'train.csv'), header=False, index=False)"
   ]
  },
  {
   "cell_type": "markdown",
   "metadata": {},
   "source": [
    "### Uploading the training data\n",
    "\n",
    "\n",
    "Next, we need to upload the training data to the SageMaker default S3 bucket so that we can provide access to it while training our model."
   ]
  },
  {
   "cell_type": "code",
   "execution_count": 83,
   "metadata": {},
   "outputs": [],
   "source": [
    "import sagemaker\n",
    "\n",
    "sagemaker_session = sagemaker.Session()\n",
    "\n",
    "bucket = sagemaker_session.default_bucket()\n",
    "prefix = 'sagemaker/sentiment_rnn'\n",
    "\n",
    "role = sagemaker.get_execution_role()"
   ]
  },
  {
   "cell_type": "code",
   "execution_count": 84,
   "metadata": {},
   "outputs": [],
   "source": [
    "input_data = sagemaker_session.upload_data(path=data_dir, bucket=bucket, key_prefix=prefix)"
   ]
  },
  {
   "cell_type": "markdown",
   "metadata": {},
   "source": [
    "**NOTE:** The cell above uploads the entire contents of our data directory. This includes the `word_dict.pkl` file. This is fortunate as we will need this later on when we create an endpoint that accepts an arbitrary review. For now, we will just take note of the fact that it resides in the data directory (and so also in the S3 training bucket) and that we will need to make sure it gets saved in the model directory."
   ]
  },
  {
   "cell_type": "markdown",
   "metadata": {},
   "source": [
    "## Step 4: Build and Train the PyTorch Model\n",
    "\n",
    "In the XGBoost notebook we discussed what a model is in the SageMaker framework. In particular, a model comprises three objects\n",
    "\n",
    " - Model Artifacts,\n",
    " - Training Code, and\n",
    " - Inference Code,\n",
    " \n",
    "each of which interact with one another. In the XGBoost example we used training and inference code that was provided by Amazon. Here we will still be using containers provided by Amazon with the added benefit of being able to include our own custom code.\n",
    "\n",
    "We will start by implementing our own neural network in PyTorch along with a training script. For the purposes of this project we have provided the necessary model object in the `model.py` file, inside of the `train` folder. You can see the provided implementation by running the cell below."
   ]
  },
  {
   "cell_type": "code",
   "execution_count": 85,
   "metadata": {},
   "outputs": [
    {
     "name": "stdout",
     "output_type": "stream",
     "text": [
      "\u001b[34mimport\u001b[39;49;00m \u001b[04m\u001b[36mtorch.nn\u001b[39;49;00m \u001b[34mas\u001b[39;49;00m \u001b[04m\u001b[36mnn\u001b[39;49;00m\r\n",
      "\r\n",
      "\u001b[34mclass\u001b[39;49;00m \u001b[04m\u001b[32mLSTMClassifier\u001b[39;49;00m(nn.Module):\r\n",
      "    \u001b[33m\"\"\"\u001b[39;49;00m\r\n",
      "\u001b[33m    This is the simple RNN model we will be using to perform Sentiment Analysis.\u001b[39;49;00m\r\n",
      "\u001b[33m    \"\"\"\u001b[39;49;00m\r\n",
      "\r\n",
      "    \u001b[34mdef\u001b[39;49;00m \u001b[32m__init__\u001b[39;49;00m(\u001b[36mself\u001b[39;49;00m, embedding_dim, hidden_dim, vocab_size):\r\n",
      "        \u001b[33m\"\"\"\u001b[39;49;00m\r\n",
      "\u001b[33m        Initialize the model by settingg up the various layers.\u001b[39;49;00m\r\n",
      "\u001b[33m        \"\"\"\u001b[39;49;00m\r\n",
      "        \u001b[36msuper\u001b[39;49;00m(LSTMClassifier, \u001b[36mself\u001b[39;49;00m).\u001b[32m__init__\u001b[39;49;00m()\r\n",
      "\r\n",
      "        \u001b[36mself\u001b[39;49;00m.embedding = nn.Embedding(vocab_size, embedding_dim, padding_idx=\u001b[34m0\u001b[39;49;00m)\r\n",
      "        \u001b[36mself\u001b[39;49;00m.lstm = nn.LSTM(embedding_dim, hidden_dim)\r\n",
      "        \u001b[36mself\u001b[39;49;00m.dense = nn.Linear(in_features=hidden_dim, out_features=\u001b[34m1\u001b[39;49;00m)\r\n",
      "        \u001b[36mself\u001b[39;49;00m.sig = nn.Sigmoid()\r\n",
      "        \r\n",
      "        \u001b[36mself\u001b[39;49;00m.word_dict = \u001b[36mNone\u001b[39;49;00m\r\n",
      "\r\n",
      "    \u001b[34mdef\u001b[39;49;00m \u001b[32mforward\u001b[39;49;00m(\u001b[36mself\u001b[39;49;00m, x):\r\n",
      "        \u001b[33m\"\"\"\u001b[39;49;00m\r\n",
      "\u001b[33m        Perform a forward pass of our model on some input.\u001b[39;49;00m\r\n",
      "\u001b[33m        \"\"\"\u001b[39;49;00m\r\n",
      "        x = x.t()\r\n",
      "        lengths = x[\u001b[34m0\u001b[39;49;00m,:]\r\n",
      "        reviews = x[\u001b[34m1\u001b[39;49;00m:,:]\r\n",
      "        embeds = \u001b[36mself\u001b[39;49;00m.embedding(reviews)\r\n",
      "        lstm_out, _ = \u001b[36mself\u001b[39;49;00m.lstm(embeds)\r\n",
      "        out = \u001b[36mself\u001b[39;49;00m.dense(lstm_out)\r\n",
      "        out = out[lengths - \u001b[34m1\u001b[39;49;00m, \u001b[36mrange\u001b[39;49;00m(\u001b[36mlen\u001b[39;49;00m(lengths))]\r\n",
      "        \u001b[34mreturn\u001b[39;49;00m \u001b[36mself\u001b[39;49;00m.sig(out.squeeze())\r\n"
     ]
    }
   ],
   "source": [
    "!pygmentize train/model.py"
   ]
  },
  {
   "cell_type": "markdown",
   "metadata": {},
   "source": [
    "The important takeaway from the implementation provided is that there are three parameters that we may wish to tweak to improve the performance of our model. These are the embedding dimension, the hidden dimension and the size of the vocabulary. We will likely want to make these parameters configurable in the training script so that if we wish to modify them we do not need to modify the script itself. We will see how to do this later on. To start we will write some of the training code in the notebook so that we can more easily diagnose any issues that arise.\n",
    "\n",
    "First we will load a small portion of the training data set to use as a sample. It would be very time consuming to try and train the model completely in the notebook as we do not have access to a gpu and the compute instance that we are using is not particularly powerful. However, we can work on a small bit of the data to get a feel for how our training script is behaving."
   ]
  },
  {
   "cell_type": "code",
   "execution_count": 86,
   "metadata": {},
   "outputs": [],
   "source": [
    "import torch\n",
    "import torch.utils.data\n",
    "\n",
    "# Read in only the first 250 rows\n",
    "train_sample = pd.read_csv(os.path.join(data_dir, 'train.csv'), header=None, names=None, nrows=250)\n",
    "\n",
    "# Turn the input pandas dataframe into tensors\n",
    "train_sample_y = torch.from_numpy(train_sample[[0]].values).float().squeeze()\n",
    "train_sample_X = torch.from_numpy(train_sample.drop([0], axis=1).values).long()\n",
    "\n",
    "# Build the dataset\n",
    "train_sample_ds = torch.utils.data.TensorDataset(train_sample_X, train_sample_y)\n",
    "# Build the dataloader\n",
    "train_sample_dl = torch.utils.data.DataLoader(train_sample_ds, batch_size=50)"
   ]
  },
  {
   "cell_type": "markdown",
   "metadata": {},
   "source": [
    "### (TODO) Writing the training method\n",
    "\n",
    "Next we need to write the training code itself. This should be very similar to training methods that you have written before to train PyTorch models. We will leave any difficult aspects such as model saving / loading and parameter loading until a little later."
   ]
  },
  {
   "cell_type": "code",
   "execution_count": 87,
   "metadata": {},
   "outputs": [],
   "source": [
    "def train(model, train_loader, epochs, optimizer, loss_fn, device):\n",
    "    for epoch in range(1, epochs + 1):\n",
    "        model.train()\n",
    "        show_every_n_batches = 40\n",
    "        total_loss = 0\n",
    "        batch_i = 0\n",
    "        for batch in train_loader:         \n",
    "            batch_X, batch_y = batch     \n",
    "            batch_X = batch_X.to(device)\n",
    "            batch_y = batch_y.to(device)\n",
    "            out = model.forward(batch_X)\n",
    "            loss = loss_fn(out, batch_y)\n",
    "            n_batches = len(train_loader.dataset)//batch_X.shape[0]\n",
    "            optimizer.zero_grad()\n",
    "            loss.backward(retain_graph=True)\n",
    "            optimizer.step()\n",
    "            total_loss += loss.data.item()\n",
    "            if batch_i % show_every_n_batches == 0:\n",
    "                print('Batch : {}/{} Epoch: {}/{}  Loss: {:6.4f}, Av Loss: {:6.4f}\\n'.format(batch_i, n_batches, epoch, epochs+1, total_loss, total_loss/(batch_i+1)))\n",
    "                #print('Batch : {}/{} Epoch: {:>4}/{:<4}  Loss: {:6.4f}, Av Loss: {:6.4f}\\n'.format(batch_i, n_batches, epoch, epochs+1, total_loss, total_loss/(batch_i+1)))\n",
    "            total_loss += loss.data.item()\n",
    "            batch_i += 1\n",
    "        print(\"Epoch: {}, BCELoss: {:6.2f}\".format(epoch, total_loss / len(train_loader)))"
   ]
  },
  {
   "cell_type": "markdown",
   "metadata": {},
   "source": [
    "Supposing we have the training method above, we will test that it is working by writing a bit of code in the notebook that executes our training method on the small sample training set that we loaded earlier. The reason for doing this in the notebook is so that we have an opportunity to fix any errors that arise early when they are easier to diagnose."
   ]
  },
  {
   "cell_type": "code",
   "execution_count": 88,
   "metadata": {},
   "outputs": [
    {
     "name": "stdout",
     "output_type": "stream",
     "text": [
      "LSTMClassifier(\n",
      "  (embedding): Embedding(5000, 32, padding_idx=0)\n",
      "  (lstm): LSTM(32, 100)\n",
      "  (dense): Linear(in_features=100, out_features=1, bias=True)\n",
      "  (sig): Sigmoid()\n",
      ")\n",
      "Batch : 0/5 Epoch: 1/6  Loss: 0.6870, Av Loss: 0.6870\n",
      "\n",
      "Epoch: 1, BCELoss:   1.39\n",
      "Batch : 0/5 Epoch: 2/6  Loss: 0.6750, Av Loss: 0.6750\n",
      "\n",
      "Epoch: 2, BCELoss:   1.37\n",
      "Batch : 0/5 Epoch: 3/6  Loss: 0.6669, Av Loss: 0.6669\n",
      "\n",
      "Epoch: 3, BCELoss:   1.35\n",
      "Batch : 0/5 Epoch: 4/6  Loss: 0.6582, Av Loss: 0.6582\n",
      "\n",
      "Epoch: 4, BCELoss:   1.34\n",
      "Batch : 0/5 Epoch: 5/6  Loss: 0.6478, Av Loss: 0.6478\n",
      "\n",
      "Epoch: 5, BCELoss:   1.31\n"
     ]
    }
   ],
   "source": [
    "import torch.optim as optim\n",
    "from train.model import LSTMClassifier\n",
    "\n",
    "device = torch.device(\"cuda\" if torch.cuda.is_available() else \"cpu\")\n",
    "model = LSTMClassifier(32, 100, 5000).to(device)\n",
    "optimizer = optim.Adam(model.parameters())\n",
    "loss_fn = torch.nn.BCELoss()\n",
    "print(model)\n",
    "train(model, train_sample_dl, 5, optimizer, loss_fn, device)"
   ]
  },
  {
   "cell_type": "markdown",
   "metadata": {},
   "source": [
    "In order to construct a PyTorch model using SageMaker we must provide SageMaker with a training script. We may optionally include a directory which will be copied to the container and from which our training code will be run. When the training container is executed it will check the uploaded directory (if there is one) for a `requirements.txt` file and install any required Python libraries, after which the training script will be run."
   ]
  },
  {
   "cell_type": "markdown",
   "metadata": {},
   "source": [
    "### (TODO) Training the model\n",
    "\n",
    "When a PyTorch model is constructed in SageMaker, an entry point must be specified. This is the Python file which will be executed when the model is trained. Inside of the `train` directory is a file called `train.py` which has been provided and which contains most of the necessary code to train our model. The only thing that is missing is the implementation of the `train()` method which you wrote earlier in this notebook.\n",
    "\n",
    "**TODO**: Copy the `train()` method written above and paste it into the `train/train.py` file where required.\n",
    "\n",
    "The way that SageMaker passes hyperparameters to the training script is by way of arguments. These arguments can then be parsed and used in the training script. To see how this is done take a look at the provided `train/train.py` file."
   ]
  },
  {
   "cell_type": "code",
   "execution_count": 89,
   "metadata": {},
   "outputs": [],
   "source": [
    "from sagemaker.pytorch import PyTorch\n",
    "\n",
    "estimator = PyTorch(entry_point=\"train.py\",\n",
    "                    source_dir=\"train\",\n",
    "                    role=role,\n",
    "                    framework_version='0.4.0',\n",
    "                    train_instance_count=1,\n",
    "                    train_instance_type='ml.m5.xlarge',\n",
    "                    hyperparameters={\n",
    "                        'epochs': 40,\n",
    "                        'hidden_dim': 200,\n",
    "                    })\n",
    "\n",
    "#train_instance_type='ml.p2.xlarge',"
   ]
  },
  {
   "cell_type": "code",
   "execution_count": 90,
   "metadata": {},
   "outputs": [
    {
     "name": "stderr",
     "output_type": "stream",
     "text": [
      "INFO:sagemaker:Creating training-job with name: sagemaker-pytorch-2019-01-24-09-20-49-390\n"
     ]
    },
    {
     "name": "stdout",
     "output_type": "stream",
     "text": [
      "2019-01-24 09:20:50 Starting - Starting the training job...\n",
      "2019-01-24 09:20:51 Starting - Launching requested ML instances......\n",
      "2019-01-24 09:21:54 Starting - Preparing the instances for training...\n",
      "2019-01-24 09:22:40 Downloading - Downloading input data..\n",
      "\u001b[31mbash: cannot set terminal process group (-1): Inappropriate ioctl for device\u001b[0m\n",
      "\u001b[31mbash: no job control in this shell\u001b[0m\n",
      "\u001b[31m2019-01-24 09:22:59,808 sagemaker-containers INFO     Imported framework sagemaker_pytorch_container.training\u001b[0m\n",
      "\u001b[31m2019-01-24 09:22:59,811 sagemaker-containers INFO     No GPUs detected (normal if no gpus installed)\u001b[0m\n",
      "\u001b[31m2019-01-24 09:22:59,823 sagemaker_pytorch_container.training INFO     Block until all host DNS lookups succeed.\u001b[0m\n",
      "\u001b[31m2019-01-24 09:23:02,832 sagemaker_pytorch_container.training INFO     Invoking user training script.\u001b[0m\n",
      "\u001b[31m2019-01-24 09:23:03,051 sagemaker-containers INFO     Module train does not provide a setup.py. \u001b[0m\n",
      "\u001b[31mGenerating setup.py\u001b[0m\n",
      "\u001b[31m2019-01-24 09:23:03,051 sagemaker-containers INFO     Generating setup.cfg\u001b[0m\n",
      "\u001b[31m2019-01-24 09:23:03,051 sagemaker-containers INFO     Generating MANIFEST.in\u001b[0m\n",
      "\u001b[31m2019-01-24 09:23:03,051 sagemaker-containers INFO     Installing module with the following command:\u001b[0m\n",
      "\u001b[31m/usr/bin/python -m pip install -U . -r requirements.txt\u001b[0m\n",
      "\u001b[31mProcessing /opt/ml/code\u001b[0m\n",
      "\u001b[31mCollecting pandas (from -r requirements.txt (line 1))\n",
      "  Downloading https://files.pythonhosted.org/packages/5d/d4/6e9c56a561f1d27407bf29318ca43f36ccaa289271b805a30034eb3a8ec4/pandas-0.23.4-cp35-cp35m-manylinux1_x86_64.whl (8.7MB)\u001b[0m\n",
      "\u001b[31mCollecting numpy (from -r requirements.txt (line 2))\n",
      "  Downloading https://files.pythonhosted.org/packages/64/24/2e9c72f44cec8c872000d78c54230e40550c494647e352d1d06724cdaee6/numpy-1.16.0-cp35-cp35m-manylinux1_x86_64.whl (17.2MB)\u001b[0m\n",
      "\u001b[31mCollecting nltk (from -r requirements.txt (line 3))\n",
      "  Downloading https://files.pythonhosted.org/packages/6f/ed/9c755d357d33bc1931e157f537721efb5b88d2c583fe593cc09603076cc3/nltk-3.4.zip (1.4MB)\u001b[0m\n",
      "\n",
      "2019-01-24 09:22:58 Training - Training image download completed. Training in progress.\u001b[31mCollecting beautifulsoup4 (from -r requirements.txt (line 4))\n",
      "  Downloading https://files.pythonhosted.org/packages/1d/5d/3260694a59df0ec52f8b4883f5d23b130bc237602a1411fa670eae12351e/beautifulsoup4-4.7.1-py3-none-any.whl (94kB)\u001b[0m\n",
      "\u001b[31mCollecting html5lib (from -r requirements.txt (line 5))\n",
      "  Downloading https://files.pythonhosted.org/packages/a5/62/bbd2be0e7943ec8504b517e62bab011b4946e1258842bc159e5dfde15b96/html5lib-1.0.1-py2.py3-none-any.whl (117kB)\u001b[0m\n",
      "\u001b[31mRequirement already satisfied, skipping upgrade: python-dateutil>=2.5.0 in /usr/local/lib/python3.5/dist-packages (from pandas->-r requirements.txt (line 1)) (2.7.5)\u001b[0m\n",
      "\u001b[31mCollecting pytz>=2011k (from pandas->-r requirements.txt (line 1))\n",
      "  Downloading https://files.pythonhosted.org/packages/61/28/1d3920e4d1d50b19bc5d24398a7cd85cc7b9a75a490570d5a30c57622d34/pytz-2018.9-py2.py3-none-any.whl (510kB)\u001b[0m\n",
      "\u001b[31mRequirement already satisfied, skipping upgrade: six in /usr/local/lib/python3.5/dist-packages (from nltk->-r requirements.txt (line 3)) (1.11.0)\u001b[0m\n",
      "\u001b[31mCollecting singledispatch (from nltk->-r requirements.txt (line 3))\n",
      "  Downloading https://files.pythonhosted.org/packages/c5/10/369f50bcd4621b263927b0a1519987a04383d4a98fb10438042ad410cf88/singledispatch-3.4.0.3-py2.py3-none-any.whl\u001b[0m\n",
      "\u001b[31mCollecting soupsieve>=1.2 (from beautifulsoup4->-r requirements.txt (line 4))\n",
      "  Downloading https://files.pythonhosted.org/packages/bf/b3/2473abf05c4950c6a829ed5dcbc40d8b56d4351d15d6939c8ffb7c6b1a14/soupsieve-1.7.3-py2.py3-none-any.whl\u001b[0m\n",
      "\u001b[31mCollecting webencodings (from html5lib->-r requirements.txt (line 5))\n",
      "  Downloading https://files.pythonhosted.org/packages/f4/24/2a3e3df732393fed8b3ebf2ec078f05546de641fe1b667ee316ec1dcf3b7/webencodings-0.5.1-py2.py3-none-any.whl\u001b[0m\n",
      "\u001b[31mBuilding wheels for collected packages: nltk, train\n",
      "  Running setup.py bdist_wheel for nltk: started\u001b[0m\n",
      "\u001b[31m  Running setup.py bdist_wheel for nltk: finished with status 'done'\n",
      "  Stored in directory: /root/.cache/pip/wheels/4b/c8/24/b2343664bcceb7147efeb21c0b23703a05b23fcfeaceaa2a1e\n",
      "  Running setup.py bdist_wheel for train: started\n",
      "  Running setup.py bdist_wheel for train: finished with status 'done'\n",
      "  Stored in directory: /tmp/pip-ephem-wheel-cache-ozhq2eqb/wheels/35/24/16/37574d11bf9bde50616c67372a334f94fa8356bc7164af8ca3\u001b[0m\n",
      "\u001b[31mSuccessfully built nltk train\u001b[0m\n",
      "\u001b[31mInstalling collected packages: pytz, numpy, pandas, singledispatch, nltk, soupsieve, beautifulsoup4, webencodings, html5lib, train\n",
      "  Found existing installation: numpy 1.15.4\u001b[0m\n",
      "\u001b[31m    Uninstalling numpy-1.15.4:\n",
      "      Successfully uninstalled numpy-1.15.4\u001b[0m\n",
      "\u001b[31mSuccessfully installed beautifulsoup4-4.7.1 html5lib-1.0.1 nltk-3.4 numpy-1.16.0 pandas-0.23.4 pytz-2018.9 singledispatch-3.4.0.3 soupsieve-1.7.3 train-1.0.0 webencodings-0.5.1\u001b[0m\n",
      "\u001b[31mYou are using pip version 18.1, however version 19.0.1 is available.\u001b[0m\n",
      "\u001b[31mYou should consider upgrading via the 'pip install --upgrade pip' command.\u001b[0m\n",
      "\u001b[31m2019-01-24 09:23:13,865 sagemaker-containers INFO     No GPUs detected (normal if no gpus installed)\u001b[0m\n",
      "\u001b[31m2019-01-24 09:23:13,878 sagemaker-containers INFO     Invoking user script\n",
      "\u001b[0m\n",
      "\u001b[31mTraining Env:\n",
      "\u001b[0m\n",
      "\u001b[31m{\n",
      "    \"current_host\": \"algo-1\",\n",
      "    \"network_interface_name\": \"ethwe\",\n",
      "    \"input_data_config\": {\n",
      "        \"training\": {\n",
      "            \"TrainingInputMode\": \"File\",\n",
      "            \"S3DistributionType\": \"FullyReplicated\",\n",
      "            \"RecordWrapperType\": \"None\"\n",
      "        }\n",
      "    },\n",
      "    \"channel_input_dirs\": {\n",
      "        \"training\": \"/opt/ml/input/data/training\"\n",
      "    },\n",
      "    \"model_dir\": \"/opt/ml/model\",\n",
      "    \"input_config_dir\": \"/opt/ml/input/config\",\n",
      "    \"additional_framework_parameters\": {},\n",
      "    \"input_dir\": \"/opt/ml/input\",\n",
      "    \"module_name\": \"train\",\n",
      "    \"log_level\": 20,\n",
      "    \"framework_module\": \"sagemaker_pytorch_container.training:main\",\n",
      "    \"job_name\": \"sagemaker-pytorch-2019-01-24-09-20-49-390\",\n",
      "    \"output_intermediate_dir\": \"/opt/ml/output/intermediate\",\n",
      "    \"module_dir\": \"s3://sagemaker-eu-west-1-000550567711/sagemaker-pytorch-2019-01-24-09-20-49-390/source/sourcedir.tar.gz\",\n",
      "    \"user_entry_point\": \"train.py\",\n",
      "    \"num_cpus\": 4,\n",
      "    \"hyperparameters\": {\n",
      "        \"hidden_dim\": 200,\n",
      "        \"epochs\": 40\n",
      "    },\n",
      "    \"hosts\": [\n",
      "        \"algo-1\"\n",
      "    ],\n",
      "    \"resource_config\": {\n",
      "        \"current_host\": \"algo-1\",\n",
      "        \"network_interface_name\": \"ethwe\",\n",
      "        \"hosts\": [\n",
      "            \"algo-1\"\n",
      "        ]\n",
      "    },\n",
      "    \"output_dir\": \"/opt/ml/output\",\n",
      "    \"output_data_dir\": \"/opt/ml/output/data\",\n",
      "    \"num_gpus\": 0\u001b[0m\n",
      "\u001b[31m}\n",
      "\u001b[0m\n",
      "\u001b[31mEnvironment variables:\n",
      "\u001b[0m\n",
      "\u001b[31mSM_USER_ARGS=[\"--epochs\",\"40\",\"--hidden_dim\",\"200\"]\u001b[0m\n",
      "\u001b[31mSM_NUM_CPUS=4\u001b[0m\n",
      "\u001b[31mSM_RESOURCE_CONFIG={\"current_host\":\"algo-1\",\"hosts\":[\"algo-1\"],\"network_interface_name\":\"ethwe\"}\u001b[0m\n",
      "\u001b[31mSM_NUM_GPUS=0\u001b[0m\n",
      "\u001b[31mSM_USER_ENTRY_POINT=train.py\u001b[0m\n",
      "\u001b[31mSM_INPUT_DIR=/opt/ml/input\u001b[0m\n",
      "\u001b[31mSM_INPUT_CONFIG_DIR=/opt/ml/input/config\u001b[0m\n",
      "\u001b[31mSM_MODULE_NAME=train\u001b[0m\n",
      "\u001b[31mSM_CHANNELS=[\"training\"]\u001b[0m\n",
      "\u001b[31mSM_OUTPUT_INTERMEDIATE_DIR=/opt/ml/output/intermediate\u001b[0m\n",
      "\u001b[31mSM_MODEL_DIR=/opt/ml/model\u001b[0m\n",
      "\u001b[31mPYTHONPATH=/usr/local/bin:/usr/lib/python35.zip:/usr/lib/python3.5:/usr/lib/python3.5/plat-x86_64-linux-gnu:/usr/lib/python3.5/lib-dynload:/usr/local/lib/python3.5/dist-packages:/usr/lib/python3/dist-packages\u001b[0m\n",
      "\u001b[31mSM_HP_EPOCHS=40\u001b[0m\n",
      "\u001b[31mSM_HOSTS=[\"algo-1\"]\u001b[0m\n",
      "\u001b[31mSM_OUTPUT_DIR=/opt/ml/output\u001b[0m\n",
      "\u001b[31mSM_LOG_LEVEL=20\u001b[0m\n",
      "\u001b[31mSM_OUTPUT_DATA_DIR=/opt/ml/output/data\u001b[0m\n",
      "\u001b[31mSM_HP_HIDDEN_DIM=200\u001b[0m\n",
      "\u001b[31mSM_INPUT_DATA_CONFIG={\"training\":{\"RecordWrapperType\":\"None\",\"S3DistributionType\":\"FullyReplicated\",\"TrainingInputMode\":\"File\"}}\u001b[0m\n",
      "\u001b[31mSM_TRAINING_ENV={\"additional_framework_parameters\":{},\"channel_input_dirs\":{\"training\":\"/opt/ml/input/data/training\"},\"current_host\":\"algo-1\",\"framework_module\":\"sagemaker_pytorch_container.training:main\",\"hosts\":[\"algo-1\"],\"hyperparameters\":{\"epochs\":40,\"hidden_dim\":200},\"input_config_dir\":\"/opt/ml/input/config\",\"input_data_config\":{\"training\":{\"RecordWrapperType\":\"None\",\"S3DistributionType\":\"FullyReplicated\",\"TrainingInputMode\":\"File\"}},\"input_dir\":\"/opt/ml/input\",\"job_name\":\"sagemaker-pytorch-2019-01-24-09-20-49-390\",\"log_level\":20,\"model_dir\":\"/opt/ml/model\",\"module_dir\":\"s3://sagemaker-eu-west-1-000550567711/sagemaker-pytorch-2019-01-24-09-20-49-390/source/sourcedir.tar.gz\",\"module_name\":\"train\",\"network_interface_name\":\"ethwe\",\"num_cpus\":4,\"num_gpus\":0,\"output_data_dir\":\"/opt/ml/output/data\",\"output_dir\":\"/opt/ml/output\",\"output_intermediate_dir\":\"/opt/ml/output/intermediate\",\"resource_config\":{\"current_host\":\"algo-1\",\"hosts\":[\"algo-1\"],\"network_interface_name\":\"ethwe\"},\"user_entry_point\":\"train.py\"}\u001b[0m\n",
      "\u001b[31mSM_NETWORK_INTERFACE_NAME=ethwe\u001b[0m\n",
      "\u001b[31mSM_HPS={\"epochs\":40,\"hidden_dim\":200}\u001b[0m\n",
      "\u001b[31mSM_FRAMEWORK_MODULE=sagemaker_pytorch_container.training:main\u001b[0m\n",
      "\u001b[31mSM_MODULE_DIR=s3://sagemaker-eu-west-1-000550567711/sagemaker-pytorch-2019-01-24-09-20-49-390/source/sourcedir.tar.gz\u001b[0m\n",
      "\u001b[31mSM_FRAMEWORK_PARAMS={}\u001b[0m\n",
      "\u001b[31mSM_CHANNEL_TRAINING=/opt/ml/input/data/training\u001b[0m\n",
      "\u001b[31mSM_CURRENT_HOST=algo-1\n",
      "\u001b[0m\n",
      "\u001b[31mInvoking script with the following command:\n",
      "\u001b[0m\n",
      "\u001b[31m/usr/bin/python -m train --epochs 40 --hidden_dim 200\n",
      "\n",
      "\u001b[0m\n",
      "\u001b[31mUsing device cpu.\u001b[0m\n",
      "\u001b[31mGet train data loader.\u001b[0m\n",
      "\u001b[31mModel loaded with embedding_dim 32, hidden_dim 200, vocab_size 5000.\u001b[0m\n"
     ]
    },
    {
     "name": "stdout",
     "output_type": "stream",
     "text": [
      "\u001b[31mBatch : 0/48 Epoch: 1/41  Loss: 0.6949, Av Loss: 0.6949\n",
      "\u001b[0m\n",
      "\u001b[31mBatch : 10/48 Epoch: 1/41  Loss: 14.4856, Av Loss: 1.3169\n",
      "\u001b[0m\n",
      "\u001b[31mBatch : 20/48 Epoch: 1/41  Loss: 28.0616, Av Loss: 1.3363\n",
      "\u001b[0m\n",
      "\u001b[31mBatch : 30/48 Epoch: 1/41  Loss: 41.0142, Av Loss: 1.3230\n",
      "\u001b[0m\n",
      "\u001b[31mBatch : 40/48 Epoch: 1/41  Loss: 53.5673, Av Loss: 1.3065\n",
      "\u001b[0m\n",
      "\u001b[31mEpoch: 1, BCELoss:   1.31\u001b[0m\n",
      "\u001b[31mBatch : 0/48 Epoch: 2/41  Loss: 0.6246, Av Loss: 0.6246\n",
      "\u001b[0m\n",
      "\u001b[31mBatch : 10/48 Epoch: 2/41  Loss: 12.5352, Av Loss: 1.1396\n",
      "\u001b[0m\n",
      "\u001b[31mBatch : 20/48 Epoch: 2/41  Loss: 24.1352, Av Loss: 1.1493\n",
      "\u001b[0m\n",
      "\u001b[31mBatch : 30/48 Epoch: 2/41  Loss: 35.2217, Av Loss: 1.1362\n",
      "\u001b[0m\n",
      "\u001b[31mBatch : 40/48 Epoch: 2/41  Loss: 46.0873, Av Loss: 1.1241\n",
      "\u001b[0m\n",
      "\u001b[31mEpoch: 2, BCELoss:   1.13\u001b[0m\n",
      "\u001b[31mBatch : 0/48 Epoch: 3/41  Loss: 0.5797, Av Loss: 0.5797\n",
      "\u001b[0m\n",
      "\u001b[31mBatch : 10/48 Epoch: 3/41  Loss: 11.4692, Av Loss: 1.0427\n",
      "\u001b[0m\n",
      "\u001b[31mBatch : 20/48 Epoch: 3/41  Loss: 21.9177, Av Loss: 1.0437\n",
      "\u001b[0m\n",
      "\u001b[31mBatch : 30/48 Epoch: 3/41  Loss: 31.5400, Av Loss: 1.0174\n",
      "\u001b[0m\n",
      "\u001b[31mBatch : 40/48 Epoch: 3/41  Loss: 42.2271, Av Loss: 1.0299\n",
      "\u001b[0m\n",
      "\u001b[31mEpoch: 3, BCELoss:   1.04\u001b[0m\n",
      "\u001b[31mBatch : 0/48 Epoch: 4/41  Loss: 0.4989, Av Loss: 0.4989\n",
      "\u001b[0m\n",
      "\u001b[31mBatch : 10/48 Epoch: 4/41  Loss: 10.3567, Av Loss: 0.9415\n",
      "\u001b[0m\n",
      "\u001b[31mBatch : 20/48 Epoch: 4/41  Loss: 19.7132, Av Loss: 0.9387\n",
      "\u001b[0m\n",
      "\u001b[31mBatch : 30/48 Epoch: 4/41  Loss: 28.5968, Av Loss: 0.9225\n",
      "\u001b[0m\n",
      "\u001b[31mBatch : 40/48 Epoch: 4/41  Loss: 37.4269, Av Loss: 0.9129\n",
      "\u001b[0m\n",
      "\u001b[31mEpoch: 4, BCELoss:   0.91\u001b[0m\n",
      "\u001b[31mBatch : 0/48 Epoch: 5/41  Loss: 0.4249, Av Loss: 0.4249\n",
      "\u001b[0m\n",
      "\u001b[31mBatch : 10/48 Epoch: 5/41  Loss: 8.9120, Av Loss: 0.8102\n",
      "\u001b[0m\n",
      "\u001b[31mBatch : 20/48 Epoch: 5/41  Loss: 17.5859, Av Loss: 0.8374\n",
      "\u001b[0m\n",
      "\u001b[31mBatch : 30/48 Epoch: 5/41  Loss: 26.1913, Av Loss: 0.8449\n",
      "\u001b[0m\n",
      "\u001b[31mBatch : 40/48 Epoch: 5/41  Loss: 34.4207, Av Loss: 0.8395\n",
      "\u001b[0m\n",
      "\u001b[31mEpoch: 5, BCELoss:   0.84\u001b[0m\n",
      "\u001b[31mBatch : 0/48 Epoch: 6/41  Loss: 0.4036, Av Loss: 0.4036\n",
      "\u001b[0m\n",
      "\u001b[31mBatch : 10/48 Epoch: 6/41  Loss: 8.3127, Av Loss: 0.7557\n",
      "\u001b[0m\n",
      "\u001b[31mBatch : 20/48 Epoch: 6/41  Loss: 16.1882, Av Loss: 0.7709\n",
      "\u001b[0m\n",
      "\u001b[31mBatch : 30/48 Epoch: 6/41  Loss: 23.8643, Av Loss: 0.7698\n",
      "\u001b[0m\n",
      "\u001b[31mBatch : 40/48 Epoch: 6/41  Loss: 31.7044, Av Loss: 0.7733\n",
      "\u001b[0m\n",
      "\u001b[31mEpoch: 6, BCELoss:   0.78\u001b[0m\n",
      "\u001b[31mBatch : 0/48 Epoch: 7/41  Loss: 0.3600, Av Loss: 0.3600\n",
      "\u001b[0m\n",
      "\u001b[31mBatch : 10/48 Epoch: 7/41  Loss: 7.7900, Av Loss: 0.7082\n",
      "\u001b[0m\n",
      "\u001b[31mBatch : 20/48 Epoch: 7/41  Loss: 15.0451, Av Loss: 0.7164\n",
      "\u001b[0m\n",
      "\u001b[31mBatch : 30/48 Epoch: 7/41  Loss: 21.8676, Av Loss: 0.7054\n",
      "\u001b[0m\n",
      "\u001b[31mBatch : 40/48 Epoch: 7/41  Loss: 28.8248, Av Loss: 0.7030\n",
      "\u001b[0m\n",
      "\u001b[31mEpoch: 7, BCELoss:   0.71\u001b[0m\n",
      "\u001b[31mBatch : 0/48 Epoch: 8/41  Loss: 0.3637, Av Loss: 0.3637\n",
      "\u001b[0m\n",
      "\u001b[31mBatch : 10/48 Epoch: 8/41  Loss: 7.4634, Av Loss: 0.6785\n",
      "\u001b[0m\n",
      "\u001b[31mBatch : 20/48 Epoch: 8/41  Loss: 14.4434, Av Loss: 0.6878\n",
      "\u001b[0m\n",
      "\u001b[31mBatch : 30/48 Epoch: 8/41  Loss: 21.2276, Av Loss: 0.6848\n",
      "\u001b[0m\n",
      "\u001b[31mBatch : 40/48 Epoch: 8/41  Loss: 27.8229, Av Loss: 0.6786\n",
      "\u001b[0m\n",
      "\u001b[31mEpoch: 8, BCELoss:   0.68\u001b[0m\n",
      "\u001b[31mBatch : 0/48 Epoch: 9/41  Loss: 0.3194, Av Loss: 0.3194\n",
      "\u001b[0m\n",
      "\u001b[31mBatch : 10/48 Epoch: 9/41  Loss: 7.0341, Av Loss: 0.6395\n",
      "\u001b[0m\n",
      "\u001b[31mBatch : 20/48 Epoch: 9/41  Loss: 13.7925, Av Loss: 0.6568\n",
      "\u001b[0m\n",
      "\u001b[31mBatch : 30/48 Epoch: 9/41  Loss: 20.0240, Av Loss: 0.6459\n",
      "\u001b[0m\n",
      "\u001b[31mBatch : 40/48 Epoch: 9/41  Loss: 26.3040, Av Loss: 0.6416\n",
      "\u001b[0m\n",
      "\u001b[31mEpoch: 9, BCELoss:   0.64\u001b[0m\n",
      "\u001b[31mBatch : 0/48 Epoch: 10/41  Loss: 0.3134, Av Loss: 0.3134\n",
      "\u001b[0m\n",
      "\u001b[31mBatch : 10/48 Epoch: 10/41  Loss: 6.5518, Av Loss: 0.5956\n",
      "\u001b[0m\n",
      "\u001b[31mBatch : 20/48 Epoch: 10/41  Loss: 12.7687, Av Loss: 0.6080\n",
      "\u001b[0m\n",
      "\u001b[31mBatch : 30/48 Epoch: 10/41  Loss: 19.0446, Av Loss: 0.6143\n",
      "\u001b[0m\n",
      "\u001b[31mBatch : 40/48 Epoch: 10/41  Loss: 25.4741, Av Loss: 0.6213\n",
      "\u001b[0m\n",
      "\u001b[31mEpoch: 10, BCELoss:   0.63\u001b[0m\n",
      "\u001b[31mBatch : 0/48 Epoch: 11/41  Loss: 0.2799, Av Loss: 0.2799\n",
      "\u001b[0m\n",
      "\u001b[31mBatch : 10/48 Epoch: 11/41  Loss: 6.3607, Av Loss: 0.5782\n",
      "\u001b[0m\n",
      "\u001b[31mBatch : 20/48 Epoch: 11/41  Loss: 12.4612, Av Loss: 0.5934\n",
      "\u001b[0m\n",
      "\u001b[31mBatch : 30/48 Epoch: 11/41  Loss: 18.8651, Av Loss: 0.6086\n",
      "\u001b[0m\n",
      "\u001b[31mBatch : 40/48 Epoch: 11/41  Loss: 25.2727, Av Loss: 0.6164\n",
      "\u001b[0m\n",
      "\u001b[31mEpoch: 11, BCELoss:   0.63\u001b[0m\n",
      "\u001b[31mBatch : 0/48 Epoch: 12/41  Loss: 0.2832, Av Loss: 0.2832\n",
      "\u001b[0m\n",
      "\u001b[31mBatch : 10/48 Epoch: 12/41  Loss: 6.3784, Av Loss: 0.5799\n",
      "\u001b[0m\n",
      "\u001b[31mBatch : 20/48 Epoch: 12/41  Loss: 12.1362, Av Loss: 0.5779\n",
      "\u001b[0m\n",
      "\u001b[31mBatch : 30/48 Epoch: 12/41  Loss: 17.9682, Av Loss: 0.5796\n",
      "\u001b[0m\n",
      "\u001b[31mBatch : 40/48 Epoch: 12/41  Loss: 23.6983, Av Loss: 0.5780\n",
      "\u001b[0m\n",
      "\u001b[31mEpoch: 12, BCELoss:   0.58\u001b[0m\n",
      "\u001b[31mBatch : 0/48 Epoch: 13/41  Loss: 0.2786, Av Loss: 0.2786\n",
      "\u001b[0m\n",
      "\u001b[31mBatch : 10/48 Epoch: 13/41  Loss: 6.3222, Av Loss: 0.5747\n",
      "\u001b[0m\n",
      "\u001b[31mBatch : 20/48 Epoch: 13/41  Loss: 11.6484, Av Loss: 0.5547\n",
      "\u001b[0m\n",
      "\u001b[31mBatch : 30/48 Epoch: 13/41  Loss: 16.9516, Av Loss: 0.5468\n",
      "\u001b[0m\n",
      "\u001b[31mBatch : 40/48 Epoch: 13/41  Loss: 22.2677, Av Loss: 0.5431\n",
      "\u001b[0m\n",
      "\u001b[31mEpoch: 13, BCELoss:   0.54\u001b[0m\n",
      "\u001b[31mBatch : 0/48 Epoch: 14/41  Loss: 0.2532, Av Loss: 0.2532\n",
      "\u001b[0m\n",
      "\u001b[31mBatch : 10/48 Epoch: 14/41  Loss: 5.5711, Av Loss: 0.5065\n",
      "\u001b[0m\n",
      "\u001b[31mBatch : 20/48 Epoch: 14/41  Loss: 10.5560, Av Loss: 0.5027\n",
      "\u001b[0m\n",
      "\u001b[31mBatch : 30/48 Epoch: 14/41  Loss: 15.6477, Av Loss: 0.5048\n",
      "\u001b[0m\n",
      "\u001b[31mBatch : 40/48 Epoch: 14/41  Loss: 20.6090, Av Loss: 0.5027\n",
      "\u001b[0m\n",
      "\u001b[31mEpoch: 14, BCELoss:   0.51\u001b[0m\n",
      "\u001b[31mBatch : 0/48 Epoch: 15/41  Loss: 0.2415, Av Loss: 0.2415\n",
      "\u001b[0m\n",
      "\u001b[31mBatch : 10/48 Epoch: 15/41  Loss: 5.3339, Av Loss: 0.4849\n",
      "\u001b[0m\n",
      "\u001b[31mBatch : 20/48 Epoch: 15/41  Loss: 10.2295, Av Loss: 0.4871\n",
      "\u001b[0m\n",
      "\u001b[31mBatch : 30/48 Epoch: 15/41  Loss: 15.2304, Av Loss: 0.4913\n",
      "\u001b[0m\n",
      "\u001b[31mBatch : 40/48 Epoch: 15/41  Loss: 20.0331, Av Loss: 0.4886\n",
      "\u001b[0m\n",
      "\u001b[31mEpoch: 15, BCELoss:   0.49\u001b[0m\n",
      "\u001b[31mBatch : 0/48 Epoch: 16/41  Loss: 0.2264, Av Loss: 0.2264\n",
      "\u001b[0m\n",
      "\u001b[31mBatch : 10/48 Epoch: 16/41  Loss: 5.2231, Av Loss: 0.4748\n",
      "\u001b[0m\n",
      "\u001b[31mBatch : 20/48 Epoch: 16/41  Loss: 10.0252, Av Loss: 0.4774\n",
      "\u001b[0m\n",
      "\u001b[31mBatch : 30/48 Epoch: 16/41  Loss: 15.0969, Av Loss: 0.4870\n",
      "\u001b[0m\n",
      "\u001b[31mBatch : 40/48 Epoch: 16/41  Loss: 20.4629, Av Loss: 0.4991\n",
      "\u001b[0m\n",
      "\u001b[31mEpoch: 16, BCELoss:   0.52\u001b[0m\n",
      "\u001b[31mBatch : 0/48 Epoch: 17/41  Loss: 0.2900, Av Loss: 0.2900\n",
      "\u001b[0m\n",
      "\u001b[31mBatch : 10/48 Epoch: 17/41  Loss: 5.6686, Av Loss: 0.5153\n",
      "\u001b[0m\n",
      "\u001b[31mBatch : 20/48 Epoch: 17/41  Loss: 10.4883, Av Loss: 0.4994\n",
      "\u001b[0m\n",
      "\u001b[31mBatch : 30/48 Epoch: 17/41  Loss: 15.5495, Av Loss: 0.5016\n",
      "\u001b[0m\n",
      "\u001b[31mBatch : 40/48 Epoch: 17/41  Loss: 20.2870, Av Loss: 0.4948\n",
      "\u001b[0m\n",
      "\u001b[31mEpoch: 17, BCELoss:   0.50\u001b[0m\n",
      "\u001b[31mBatch : 0/48 Epoch: 18/41  Loss: 0.2379, Av Loss: 0.2379\n",
      "\u001b[0m\n",
      "\u001b[31mBatch : 10/48 Epoch: 18/41  Loss: 5.7807, Av Loss: 0.5255\n",
      "\u001b[0m\n",
      "\u001b[31mBatch : 20/48 Epoch: 18/41  Loss: 11.1377, Av Loss: 0.5304\n",
      "\u001b[0m\n",
      "\u001b[31mBatch : 30/48 Epoch: 18/41  Loss: 16.0653, Av Loss: 0.5182\n",
      "\u001b[0m\n",
      "\u001b[31mBatch : 40/48 Epoch: 18/41  Loss: 20.7526, Av Loss: 0.5062\n",
      "\u001b[0m\n",
      "\u001b[31mEpoch: 18, BCELoss:   0.51\u001b[0m\n",
      "\u001b[31mBatch : 0/48 Epoch: 19/41  Loss: 0.2343, Av Loss: 0.2343\n",
      "\u001b[0m\n",
      "\u001b[31mBatch : 10/48 Epoch: 19/41  Loss: 5.5061, Av Loss: 0.5006\n",
      "\u001b[0m\n",
      "\u001b[31mBatch : 20/48 Epoch: 19/41  Loss: 10.5974, Av Loss: 0.5046\n",
      "\u001b[0m\n",
      "\u001b[31mBatch : 30/48 Epoch: 19/41  Loss: 15.3611, Av Loss: 0.4955\n",
      "\u001b[0m\n",
      "\u001b[31mBatch : 40/48 Epoch: 19/41  Loss: 19.9629, Av Loss: 0.4869\n",
      "\u001b[0m\n",
      "\u001b[31mEpoch: 19, BCELoss:   0.49\u001b[0m\n",
      "\u001b[31mBatch : 0/48 Epoch: 20/41  Loss: 0.2403, Av Loss: 0.2403\n",
      "\u001b[0m\n",
      "\u001b[31mBatch : 10/48 Epoch: 20/41  Loss: 4.9904, Av Loss: 0.4537\n",
      "\u001b[0m\n",
      "\u001b[31mBatch : 20/48 Epoch: 20/41  Loss: 9.3875, Av Loss: 0.4470\n",
      "\u001b[0m\n",
      "\u001b[31mBatch : 30/48 Epoch: 20/41  Loss: 13.8874, Av Loss: 0.4480\n",
      "\u001b[0m\n",
      "\u001b[31mBatch : 40/48 Epoch: 20/41  Loss: 18.2433, Av Loss: 0.4450\n",
      "\u001b[0m\n",
      "\u001b[31mEpoch: 20, BCELoss:   0.46\u001b[0m\n",
      "\u001b[31mBatch : 0/48 Epoch: 21/41  Loss: 0.2030, Av Loss: 0.2030\n",
      "\u001b[0m\n",
      "\u001b[31mBatch : 10/48 Epoch: 21/41  Loss: 4.9534, Av Loss: 0.4503\n",
      "\u001b[0m\n",
      "\u001b[31mBatch : 20/48 Epoch: 21/41  Loss: 9.6937, Av Loss: 0.4616\n",
      "\u001b[0m\n",
      "\u001b[31mBatch : 30/48 Epoch: 21/41  Loss: 14.3877, Av Loss: 0.4641\n",
      "\u001b[0m\n",
      "\u001b[31mBatch : 40/48 Epoch: 21/41  Loss: 19.1765, Av Loss: 0.4677\n",
      "\u001b[0m\n",
      "\u001b[31mEpoch: 21, BCELoss:   0.48\u001b[0m\n",
      "\u001b[31mBatch : 0/48 Epoch: 22/41  Loss: 0.2341, Av Loss: 0.2341\n",
      "\u001b[0m\n",
      "\u001b[31mBatch : 10/48 Epoch: 22/41  Loss: 4.8635, Av Loss: 0.4421\n",
      "\u001b[0m\n",
      "\u001b[31mBatch : 20/48 Epoch: 22/41  Loss: 9.0191, Av Loss: 0.4295\n",
      "\u001b[0m\n",
      "\u001b[31mBatch : 30/48 Epoch: 22/41  Loss: 13.4796, Av Loss: 0.4348\n",
      "\u001b[0m\n",
      "\u001b[31mBatch : 40/48 Epoch: 22/41  Loss: 17.3395, Av Loss: 0.4229\n",
      "\u001b[0m\n"
     ]
    },
    {
     "name": "stdout",
     "output_type": "stream",
     "text": [
      "\u001b[31mEpoch: 22, BCELoss:   0.44\u001b[0m\n",
      "\u001b[31mBatch : 0/48 Epoch: 23/41  Loss: 0.2100, Av Loss: 0.2100\n",
      "\u001b[0m\n",
      "\u001b[31mBatch : 10/48 Epoch: 23/41  Loss: 4.6322, Av Loss: 0.4211\n",
      "\u001b[0m\n",
      "\u001b[31mBatch : 20/48 Epoch: 23/41  Loss: 9.3840, Av Loss: 0.4469\n",
      "\u001b[0m\n",
      "\u001b[31mBatch : 30/48 Epoch: 23/41  Loss: 14.9041, Av Loss: 0.4808\n",
      "\u001b[0m\n",
      "\u001b[31mBatch : 40/48 Epoch: 23/41  Loss: 19.9407, Av Loss: 0.4864\n",
      "\u001b[0m\n",
      "\u001b[31mEpoch: 23, BCELoss:   0.50\u001b[0m\n",
      "\u001b[31mBatch : 0/48 Epoch: 24/41  Loss: 0.2666, Av Loss: 0.2666\n",
      "\u001b[0m\n",
      "\u001b[31mBatch : 10/48 Epoch: 24/41  Loss: 5.1862, Av Loss: 0.4715\n",
      "\u001b[0m\n",
      "\u001b[31mBatch : 20/48 Epoch: 24/41  Loss: 9.9405, Av Loss: 0.4734\n",
      "\u001b[0m\n",
      "\u001b[31mBatch : 30/48 Epoch: 24/41  Loss: 14.6838, Av Loss: 0.4737\n",
      "\u001b[0m\n",
      "\u001b[31mBatch : 40/48 Epoch: 24/41  Loss: 19.1350, Av Loss: 0.4667\n",
      "\u001b[0m\n",
      "\u001b[31mEpoch: 24, BCELoss:   0.48\u001b[0m\n",
      "\u001b[31mBatch : 0/48 Epoch: 25/41  Loss: 0.2778, Av Loss: 0.2778\n",
      "\u001b[0m\n",
      "\u001b[31mBatch : 10/48 Epoch: 25/41  Loss: 5.2962, Av Loss: 0.4815\n",
      "\u001b[0m\n",
      "\u001b[31mBatch : 20/48 Epoch: 25/41  Loss: 9.5797, Av Loss: 0.4562\n",
      "\u001b[0m\n",
      "\u001b[31mBatch : 30/48 Epoch: 25/41  Loss: 13.7194, Av Loss: 0.4426\n",
      "\u001b[0m\n",
      "\u001b[31mBatch : 40/48 Epoch: 25/41  Loss: 17.5235, Av Loss: 0.4274\n",
      "\u001b[0m\n",
      "\u001b[31mEpoch: 25, BCELoss:   0.44\u001b[0m\n",
      "\u001b[31mBatch : 0/48 Epoch: 26/41  Loss: 0.2393, Av Loss: 0.2393\n",
      "\u001b[0m\n",
      "\u001b[31mBatch : 10/48 Epoch: 26/41  Loss: 4.7629, Av Loss: 0.4330\n",
      "\u001b[0m\n",
      "\u001b[31mBatch : 20/48 Epoch: 26/41  Loss: 8.6611, Av Loss: 0.4124\n",
      "\u001b[0m\n",
      "\u001b[31mBatch : 30/48 Epoch: 26/41  Loss: 12.3499, Av Loss: 0.3984\n",
      "\u001b[0m\n",
      "\u001b[31mBatch : 40/48 Epoch: 26/41  Loss: 15.8095, Av Loss: 0.3856\n",
      "\u001b[0m\n",
      "\u001b[31mEpoch: 26, BCELoss:   0.39\u001b[0m\n",
      "\u001b[31mBatch : 0/48 Epoch: 27/41  Loss: 0.1920, Av Loss: 0.1920\n",
      "\u001b[0m\n",
      "\u001b[31mBatch : 10/48 Epoch: 27/41  Loss: 4.2042, Av Loss: 0.3822\n",
      "\u001b[0m\n",
      "\u001b[31mBatch : 20/48 Epoch: 27/41  Loss: 11.8804, Av Loss: 0.5657\n",
      "\u001b[0m\n",
      "\u001b[31mBatch : 30/48 Epoch: 27/41  Loss: 18.6554, Av Loss: 0.6018\n",
      "\u001b[0m\n",
      "\u001b[31mBatch : 40/48 Epoch: 27/41  Loss: 23.7221, Av Loss: 0.5786\n",
      "\u001b[0m\n",
      "\u001b[31mEpoch: 27, BCELoss:   0.56\u001b[0m\n",
      "\u001b[31mBatch : 0/48 Epoch: 28/41  Loss: 0.1962, Av Loss: 0.1962\n",
      "\u001b[0m\n",
      "\u001b[31mBatch : 10/48 Epoch: 28/41  Loss: 7.7333, Av Loss: 0.7030\n",
      "\u001b[0m\n",
      "\u001b[31mBatch : 20/48 Epoch: 28/41  Loss: 15.0938, Av Loss: 0.7188\n",
      "\u001b[0m\n",
      "\u001b[31mBatch : 30/48 Epoch: 28/41  Loss: 20.9655, Av Loss: 0.6763\n",
      "\u001b[0m\n",
      "\u001b[31mBatch : 40/48 Epoch: 28/41  Loss: 25.6973, Av Loss: 0.6268\n",
      "\u001b[0m\n",
      "\u001b[31mEpoch: 28, BCELoss:   0.61\u001b[0m\n",
      "\u001b[31mBatch : 0/48 Epoch: 29/41  Loss: 0.2310, Av Loss: 0.2310\n",
      "\u001b[0m\n",
      "\u001b[31mBatch : 10/48 Epoch: 29/41  Loss: 4.8045, Av Loss: 0.4368\n",
      "\u001b[0m\n",
      "\u001b[31mBatch : 20/48 Epoch: 29/41  Loss: 8.6210, Av Loss: 0.4105\n",
      "\u001b[0m\n",
      "\u001b[31mBatch : 30/48 Epoch: 29/41  Loss: 12.3474, Av Loss: 0.3983\n",
      "\u001b[0m\n",
      "\u001b[31mBatch : 40/48 Epoch: 29/41  Loss: 15.7450, Av Loss: 0.3840\n",
      "\u001b[0m\n",
      "\u001b[31mEpoch: 29, BCELoss:   0.39\u001b[0m\n",
      "\u001b[31mBatch : 0/48 Epoch: 30/41  Loss: 0.1908, Av Loss: 0.1908\n",
      "\u001b[0m\n",
      "\u001b[31mBatch : 10/48 Epoch: 30/41  Loss: 4.1202, Av Loss: 0.3746\n",
      "\u001b[0m\n",
      "\u001b[31mBatch : 20/48 Epoch: 30/41  Loss: 7.6758, Av Loss: 0.3655\n",
      "\u001b[0m\n",
      "\u001b[31mBatch : 30/48 Epoch: 30/41  Loss: 11.1140, Av Loss: 0.3585\n",
      "\u001b[0m\n",
      "\u001b[31mBatch : 40/48 Epoch: 30/41  Loss: 14.4130, Av Loss: 0.3515\n",
      "\u001b[0m\n",
      "\u001b[31mEpoch: 30, BCELoss:   0.35\u001b[0m\n",
      "\u001b[31mBatch : 0/48 Epoch: 31/41  Loss: 0.1722, Av Loss: 0.1722\n",
      "\u001b[0m\n",
      "\u001b[31mBatch : 10/48 Epoch: 31/41  Loss: 3.6591, Av Loss: 0.3326\n",
      "\u001b[0m\n",
      "\u001b[31mBatch : 20/48 Epoch: 31/41  Loss: 6.7806, Av Loss: 0.3229\n",
      "\u001b[0m\n",
      "\u001b[31mBatch : 30/48 Epoch: 31/41  Loss: 9.8562, Av Loss: 0.3179\n",
      "\u001b[0m\n",
      "\u001b[31mBatch : 40/48 Epoch: 31/41  Loss: 12.7324, Av Loss: 0.3105\n",
      "\u001b[0m\n",
      "\u001b[31mEpoch: 31, BCELoss:   0.32\u001b[0m\n",
      "\u001b[31mBatch : 0/48 Epoch: 32/41  Loss: 0.1792, Av Loss: 0.1792\n",
      "\u001b[0m\n",
      "\u001b[31mBatch : 10/48 Epoch: 32/41  Loss: 3.5496, Av Loss: 0.3227\n",
      "\u001b[0m\n",
      "\u001b[31mBatch : 20/48 Epoch: 32/41  Loss: 6.4892, Av Loss: 0.3090\n",
      "\u001b[0m\n",
      "\u001b[31mBatch : 30/48 Epoch: 32/41  Loss: 9.3993, Av Loss: 0.3032\n",
      "\u001b[0m\n",
      "\u001b[31mBatch : 40/48 Epoch: 32/41  Loss: 12.1147, Av Loss: 0.2955\n",
      "\u001b[0m\n",
      "\u001b[31mEpoch: 32, BCELoss:   0.30\u001b[0m\n",
      "\u001b[31mBatch : 0/48 Epoch: 33/41  Loss: 0.1672, Av Loss: 0.1672\n",
      "\u001b[0m\n",
      "\u001b[31mBatch : 10/48 Epoch: 33/41  Loss: 3.4506, Av Loss: 0.3137\n",
      "\u001b[0m\n",
      "\u001b[31mBatch : 20/48 Epoch: 33/41  Loss: 6.4081, Av Loss: 0.3051\n",
      "\u001b[0m\n",
      "\u001b[31mBatch : 30/48 Epoch: 33/41  Loss: 11.4992, Av Loss: 0.3709\n",
      "\u001b[0m\n",
      "\u001b[31mBatch : 40/48 Epoch: 33/41  Loss: 18.0903, Av Loss: 0.4412\n",
      "\u001b[0m\n",
      "\u001b[31mEpoch: 33, BCELoss:   0.44\u001b[0m\n",
      "\u001b[31mBatch : 0/48 Epoch: 34/41  Loss: 0.2026, Av Loss: 0.2026\n",
      "\u001b[0m\n",
      "\u001b[31mBatch : 10/48 Epoch: 34/41  Loss: 4.8798, Av Loss: 0.4436\n",
      "\u001b[0m\n",
      "\u001b[31mBatch : 20/48 Epoch: 34/41  Loss: 8.5089, Av Loss: 0.4052\n",
      "\u001b[0m\n",
      "\u001b[31mBatch : 30/48 Epoch: 34/41  Loss: 11.7745, Av Loss: 0.3798\n",
      "\u001b[0m\n",
      "\u001b[31mBatch : 40/48 Epoch: 34/41  Loss: 14.8337, Av Loss: 0.3618\n",
      "\u001b[0m\n",
      "\u001b[31mEpoch: 34, BCELoss:   0.35\u001b[0m\n",
      "\u001b[31mBatch : 0/48 Epoch: 35/41  Loss: 0.1491, Av Loss: 0.1491\n",
      "\u001b[0m\n",
      "\u001b[31mBatch : 10/48 Epoch: 35/41  Loss: 3.3017, Av Loss: 0.3002\n",
      "\u001b[0m\n",
      "\u001b[31mBatch : 20/48 Epoch: 35/41  Loss: 6.0458, Av Loss: 0.2879\n",
      "\u001b[0m\n",
      "\u001b[31mBatch : 30/48 Epoch: 35/41  Loss: 8.7221, Av Loss: 0.2814\n",
      "\u001b[0m\n",
      "\u001b[31mBatch : 40/48 Epoch: 35/41  Loss: 11.2670, Av Loss: 0.2748\n",
      "\u001b[0m\n",
      "\u001b[31mEpoch: 35, BCELoss:   0.28\u001b[0m\n",
      "\u001b[31mBatch : 0/48 Epoch: 36/41  Loss: 0.1349, Av Loss: 0.1349\n",
      "\u001b[0m\n",
      "\u001b[31mBatch : 10/48 Epoch: 36/41  Loss: 2.9809, Av Loss: 0.2710\n",
      "\u001b[0m\n",
      "\u001b[31mBatch : 20/48 Epoch: 36/41  Loss: 5.4716, Av Loss: 0.2606\n",
      "\u001b[0m\n",
      "\u001b[31mBatch : 30/48 Epoch: 36/41  Loss: 7.8551, Av Loss: 0.2534\n",
      "\u001b[0m\n",
      "\u001b[31mBatch : 40/48 Epoch: 36/41  Loss: 10.1304, Av Loss: 0.2471\n",
      "\u001b[0m\n",
      "\u001b[31mEpoch: 36, BCELoss:   0.25\u001b[0m\n",
      "\u001b[31mBatch : 0/48 Epoch: 37/41  Loss: 0.1149, Av Loss: 0.1149\n",
      "\u001b[0m\n",
      "\u001b[31mBatch : 10/48 Epoch: 37/41  Loss: 2.6445, Av Loss: 0.2404\n",
      "\u001b[0m\n",
      "\u001b[31mBatch : 20/48 Epoch: 37/41  Loss: 4.9040, Av Loss: 0.2335\n",
      "\u001b[0m\n",
      "\u001b[31mBatch : 30/48 Epoch: 37/41  Loss: 7.1430, Av Loss: 0.2304\n",
      "\u001b[0m\n",
      "\u001b[31mBatch : 40/48 Epoch: 37/41  Loss: 9.2598, Av Loss: 0.2258\n",
      "\u001b[0m\n",
      "\u001b[31mEpoch: 37, BCELoss:   0.23\u001b[0m\n",
      "\u001b[31mBatch : 0/48 Epoch: 38/41  Loss: 0.1046, Av Loss: 0.1046\n",
      "\u001b[0m\n",
      "\u001b[31mBatch : 10/48 Epoch: 38/41  Loss: 2.5584, Av Loss: 0.2326\n",
      "\u001b[0m\n",
      "\u001b[31mBatch : 20/48 Epoch: 38/41  Loss: 4.6260, Av Loss: 0.2203\n",
      "\u001b[0m\n",
      "\u001b[31mBatch : 30/48 Epoch: 38/41  Loss: 6.7849, Av Loss: 0.2189\n",
      "\u001b[0m\n",
      "\u001b[31mBatch : 40/48 Epoch: 38/41  Loss: 9.3019, Av Loss: 0.2269\n",
      "\u001b[0m\n",
      "\u001b[31mEpoch: 38, BCELoss:   0.23\u001b[0m\n",
      "\u001b[31mBatch : 0/48 Epoch: 39/41  Loss: 0.1208, Av Loss: 0.1208\n",
      "\u001b[0m\n",
      "\u001b[31mBatch : 10/48 Epoch: 39/41  Loss: 2.5016, Av Loss: 0.2274\n",
      "\u001b[0m\n",
      "\u001b[31mBatch : 20/48 Epoch: 39/41  Loss: 4.7617, Av Loss: 0.2267\n",
      "\u001b[0m\n",
      "\u001b[31mBatch : 30/48 Epoch: 39/41  Loss: 6.9325, Av Loss: 0.2236\n",
      "\u001b[0m\n",
      "\u001b[31mBatch : 40/48 Epoch: 39/41  Loss: 9.2665, Av Loss: 0.2260\n",
      "\u001b[0m\n",
      "\u001b[31mEpoch: 39, BCELoss:   0.23\u001b[0m\n",
      "\u001b[31mBatch : 0/48 Epoch: 40/41  Loss: 0.1036, Av Loss: 0.1036\n",
      "\u001b[0m\n",
      "\u001b[31mBatch : 10/48 Epoch: 40/41  Loss: 2.2387, Av Loss: 0.2035\n",
      "\u001b[0m\n",
      "\u001b[31mBatch : 20/48 Epoch: 40/41  Loss: 4.1202, Av Loss: 0.1962\n",
      "\u001b[0m\n",
      "\u001b[31mBatch : 30/48 Epoch: 40/41  Loss: 6.0141, Av Loss: 0.1940\n",
      "\u001b[0m\n",
      "\u001b[31mBatch : 40/48 Epoch: 40/41  Loss: 8.3835, Av Loss: 0.2045\n",
      "\u001b[0m\n",
      "\n",
      "2019-01-24 14:53:39 Uploading - Uploading generated training model\u001b[31mEpoch: 40, BCELoss:   0.21\u001b[0m\n",
      "\u001b[31m2019-01-24 14:53:36,924 sagemaker-containers INFO     Reporting training SUCCESS\u001b[0m\n",
      "\n",
      "2019-01-24 14:53:44 Completed - Training job completed\n",
      "Billable seconds: 19865\n"
     ]
    }
   ],
   "source": [
    "estimator.fit({'training': input_data})"
   ]
  },
  {
   "cell_type": "markdown",
   "metadata": {},
   "source": [
    "## Step 5: Testing the model\n",
    "\n",
    "As mentioned at the top of this notebook, we will be testing this model by first deploying it and then sending the testing data to the deployed endpoint. We will do this so that we can make sure that the deployed model is working correctly.\n",
    "\n",
    "## Step 6: Deploy the model for testing\n",
    "\n",
    "Now that we have trained our model, we would like to test it to see how it performs. Currently our model takes input of the form `review_length, review[500]` where `review[500]` is a sequence of `500` integers which describe the words present in the review, encoded using `word_dict`. Fortunately for us, SageMaker provides built-in inference code for models with simple inputs such as this.\n",
    "\n",
    "There is one thing that we need to provide, however, and that is a function which loads the saved model. This function must be called `model_fn()` and takes as its only parameter a path to the directory where the model artifacts are stored. This function must also be present in the python file which we specified as the entry point. In our case the model loading function has been provided and so no changes need to be made.\n",
    "\n",
    "**NOTE**: When the built-in inference code is run it must import the `model_fn()` method from the `train.py` file. This is why the training code is wrapped in a main guard ( ie, `if __name__ == '__main__':` )\n",
    "\n",
    "Since we don't need to change anything in the code that was uploaded during training, we can simply deploy the current model as-is.\n",
    "\n",
    "**NOTE:** When deploying a model you are asking SageMaker to launch an compute instance that will wait for data to be sent to it. As a result, this compute instance will continue to run until *you* shut it down. This is important to know since the cost of a deployed endpoint depends on how long it has been running for.\n",
    "\n",
    "In other words **If you are no longer using a deployed endpoint, shut it down!**\n",
    "\n",
    "**TODO:** Deploy the trained model."
   ]
  },
  {
   "cell_type": "code",
   "execution_count": 308,
   "metadata": {},
   "outputs": [
    {
     "name": "stderr",
     "output_type": "stream",
     "text": [
      "INFO:sagemaker:Creating model with name: sagemaker-pytorch-2019-01-24-09-20-49-390\n"
     ]
    }
   ],
   "source": [
    "# TODO: Deploy the trained model\n",
    "# TODO: Create a transformer object from the trained model. Using an instance count of 1 and an instance type of ml.m4.xlarge\n",
    "#       should be more than enough.\n",
    "model_transformer = estimator.transformer(instance_count = 1, instance_type = 'ml.m5.xlarge')"
   ]
  },
  {
   "cell_type": "code",
   "execution_count": 309,
   "metadata": {},
   "outputs": [
    {
     "name": "stderr",
     "output_type": "stream",
     "text": [
      "INFO:sagemaker:Creating model with name: sagemaker-pytorch-2019-01-24-09-20-49-390\n",
      "WARNING:sagemaker:Using already existing model: sagemaker-pytorch-2019-01-24-09-20-49-390\n",
      "INFO:sagemaker:Creating endpoint with name sagemaker-pytorch-2019-01-24-09-20-49-390\n"
     ]
    },
    {
     "name": "stdout",
     "output_type": "stream",
     "text": [
      "---------------------------------------------------------------------------!"
     ]
    }
   ],
   "source": [
    "predictor = estimator.deploy(initial_instance_count = 1, instance_type = 'ml.m5.xlarge')"
   ]
  },
  {
   "cell_type": "markdown",
   "metadata": {},
   "source": [
    "## Step 7 - Use the model for testing\n",
    "\n",
    "Once deployed, we can read in the test data and send it off to our deployed model to get some results. Once we collect all of the results we can determine how accurate our model is."
   ]
  },
  {
   "cell_type": "code",
   "execution_count": 313,
   "metadata": {},
   "outputs": [],
   "source": [
    "test_X = pd.concat([pd.DataFrame(test_X_len), pd.DataFrame(test_X)], axis=1)"
   ]
  },
  {
   "cell_type": "code",
   "execution_count": 314,
   "metadata": {},
   "outputs": [],
   "source": [
    "# We split the data into chunks and send each chunk seperately, accumulating the results.\n",
    "import sys\n",
    "def predict(data, rows=512):\n",
    "    split_array = np.array_split(data, int(data.shape[0] / float(rows) + 1))\n",
    "    predictions = np.array([])\n",
    "    for array in split_array:\n",
    "        #print(type(array))\n",
    "       # print(array.shape)\n",
    "        predictions = np.append(predictions, predictor.predict(array))\n",
    "    \n",
    "    return predictions"
   ]
  },
  {
   "cell_type": "code",
   "execution_count": 315,
   "metadata": {},
   "outputs": [],
   "source": [
    "predictions = predict(test_X.values)\n",
    "predictions = [round(num) for num in predictions]"
   ]
  },
  {
   "cell_type": "code",
   "execution_count": 98,
   "metadata": {},
   "outputs": [
    {
     "data": {
      "text/plain": [
       "0.8408"
      ]
     },
     "execution_count": 98,
     "metadata": {},
     "output_type": "execute_result"
    }
   ],
   "source": [
    "from sklearn.metrics import accuracy_score\n",
    "accuracy_score(test_y, predictions)"
   ]
  },
  {
   "cell_type": "markdown",
   "metadata": {},
   "source": [
    "**Question:** How does this model compare to the XGBoost model you created earlier? Why might these two models perform differently on this dataset? Which do *you* think is better for sentiment analysis?"
   ]
  },
  {
   "cell_type": "markdown",
   "metadata": {},
   "source": [
    "**Answer:**\n",
    "XGGBoost performed marginally better at 0.85508 as compared to the RNNs 0.8408 on test data sets, both models may be converging toward optimal/saturated accuracy levels. \n",
    "I believe both models are likely struggling on the 0.15 - which I hypothesize consists of more complex reviews with neither strongly positive or negative reviews.\n",
    "\n",
    "The models have different representations of the input data.  XGBoost uses Bag Of Words, mathematically this is a set of words with count data. It explicitly uses frequency information as it sends a distribution of word count data into the model, and becomes a statistical classifier.  RNN uses an ordered sequence of words for input. Unlike XGBoost it does not explicity encode frequency as each index represents a category. Instead the frequency is governed implicity by the number of times the word appears in the sequence. But because it applies an LSTM to the sequence it may learn context from the relative orderings of words.\n",
    "\n",
    "As XGBoost uses explicity frequency information only, while RNN uses both context and implicit frequency, I would expect both models to perform well on a large proportion of strong positive/negative reviews E.G 0.85, but RNN to perform better on more complex reviews within 0.15. To test this hypothesis, I would need to train larger RNN models for a longer period. While I believe XGBoost will saturate to maximum accuracy level despite using greater tree depth.\n"
   ]
  },
  {
   "cell_type": "markdown",
   "metadata": {},
   "source": [
    "### (TODO) More testing\n",
    "\n",
    "We now have a trained model which has been deployed and which we can send processed reviews to and which returns the predicted sentiment. However, ultimately we would like to be able to send our model an unprocessed review. That is, we would like to send the review itself as a string. For example, suppose we wish to send the following review to our model."
   ]
  },
  {
   "cell_type": "code",
   "execution_count": 317,
   "metadata": {},
   "outputs": [],
   "source": [
    "test_review ='The simplest pleasures in life are the best, and this film is one of them. Combining a rather basic storyline of love and adventure this movie transcends the usual weekend fair with wit and unmitigated charm.'"
   ]
  },
  {
   "cell_type": "code",
   "execution_count": 321,
   "metadata": {},
   "outputs": [],
   "source": [
    "test_review1 = 'This movie is not your ordinary Hollywood flick. It has a great and deep message. This movie has a foundation and just kept on being built on from their and that foundation is hope. Other than just the message of this movie the acting was phenomenal. Tim Robbins gave one of the greatest performances ever. He was inspiring, intelligent and most of all positive. His performance just made me smile. Robbins plays Andy Dufresne who was wrongfully convicted of murdering his wife and her lover. He is gets to life sentences but yet never gives up hope. In he becomes friends with Ellis Boyd \"Red\" Redding played by Morgan Freeman. Freeman who gives the finest performance of his career has unlike Robbins lost hope. He is in deep regret of the crime that he committed. His way of deflecting the pain away is by trying to not feel anything at all. With his friendship with Andy he learns that without our hopes and dreams we have nothing. Andy also becomes friends with the rest of Red\\'s group. James Whitmore also gave a great performance as Brooks Halten who gets out of prison parole but in the words of Red he has been \\'institutionalized\\'. The directing by Frank Darabont was just magnificent. He kept this movie at a great steady pace along with the writing and great cinematography. He portrayed prison life in such a horrifying way, but not in terms of the physical pain but the stress and pain that wares mentally on the inmates, some of which deserve a second chance. Whatever you do, don\\'t listen to the people who say this movie is overrated because this is one of the most inspiring and greatest movies ever. It has everything you could possibly want.'"
   ]
  },
  {
   "cell_type": "markdown",
   "metadata": {},
   "source": [
    "The question we now need to answer is, how do we send this review to our model?\n",
    "\n",
    "Recall in the first section of this notebook we did a bunch of data processing to the IMDb dataset. In particular, we did two specific things to the provided reviews.\n",
    " - Removed any html tags and stemmed the input\n",
    " - Encoded the review as a sequence of integers using `word_dict`\n",
    " \n",
    "In order process the review we will need to repeat these two steps.\n",
    "\n",
    "**TODO**: Using the `review_to_words` and `convert_and_pad` methods from section one, convert `test_review` into a numpy array `test_data` suitable to send to our model. Remember that our model expects input of the form `review_length, review[500]`."
   ]
  },
  {
   "cell_type": "code",
   "execution_count": 318,
   "metadata": {},
   "outputs": [],
   "source": [
    "# TODO: Convert test_review into a form usable by the model and save the results in test_data\n",
    "import numpy\n",
    "#test_review = 'The simplest pleasures in life are the best, and this film is one of them. Combining a rather basic storyline of love and adventure this movie transcends the usual weekend fair with wit and unmitigated charm.'\n",
    "a = review_to_words(test_review)\n",
    "\n",
    "sample_X, sample_X_len =convert_and_pad(word_dict, a, pad=500)\n",
    "sample_X=numpy.asarray(sample_X)\n",
    "test_data = numpy.reshape(sample_X, (1,-1))\n"
   ]
  },
  {
   "cell_type": "markdown",
   "metadata": {},
   "source": [
    "Now that we have processed the review, we can send the resulting array to our model to predict the sentiment of the review."
   ]
  },
  {
   "cell_type": "code",
   "execution_count": 319,
   "metadata": {},
   "outputs": [
    {
     "data": {
      "text/plain": [
       "array(0.60073024, dtype=float32)"
      ]
     },
     "execution_count": 319,
     "metadata": {},
     "output_type": "execute_result"
    }
   ],
   "source": [
    "predictor.predict(test_data)"
   ]
  },
  {
   "cell_type": "code",
   "execution_count": 322,
   "metadata": {},
   "outputs": [
    {
     "data": {
      "text/plain": [
       "array(0.32397455, dtype=float32)"
      ]
     },
     "execution_count": 322,
     "metadata": {},
     "output_type": "execute_result"
    }
   ],
   "source": [
    "a = review_to_words(test_review1)\n",
    "#false negative\n",
    "sample_X, sample_X_len =convert_and_pad(word_dict, a, pad=500)\n",
    "sample_X=numpy.asarray(sample_X)\n",
    "test_data = numpy.reshape(sample_X, (1,-1))\n",
    "predictor.predict(test_data)"
   ]
  },
  {
   "cell_type": "markdown",
   "metadata": {},
   "source": [
    "Since the return value of our model is close to `1`, we can be certain that the review we submitted is positive."
   ]
  },
  {
   "cell_type": "markdown",
   "metadata": {},
   "source": [
    "### Delete the endpoint\n",
    "\n",
    "Of course, just like in the XGBoost notebook, once we've deployed an endpoint it continues to run until we tell it to shut down. Since we are done using our endpoint for now, we can delete it."
   ]
  },
  {
   "cell_type": "code",
   "execution_count": 323,
   "metadata": {},
   "outputs": [
    {
     "name": "stderr",
     "output_type": "stream",
     "text": [
      "INFO:sagemaker:Deleting endpoint with name: sagemaker-pytorch-2019-01-24-09-20-49-390\n"
     ]
    }
   ],
   "source": [
    "estimator.delete_endpoint()"
   ]
  },
  {
   "cell_type": "markdown",
   "metadata": {},
   "source": [
    "## Step 6 (again) - Deploy the model for the web app\n",
    "\n",
    "Now that we know that our model is working, it's time to create some custom inference code so that we can send the model a review which has not been processed and have it determine the sentiment of the review.\n",
    "\n",
    "As we saw above, by default the estimator which we created, when deployed, will use the entry script and directory which we provided when creating the model. However, since we now wish to accept a string as input and our model expects a processed review, we need to write some custom inference code.\n",
    "\n",
    "We will store the code that we write in the `serve` directory. Provided in this directory is the `model.py` file that we used to construct our model, a `utils.py` file which contains the `review_to_words` and `convert_and_pad` pre-processing functions which we used during the initial data processing, and `predict.py`, the file which will contain our custom inference code. Note also that `requirements.txt` is present which will tell SageMaker what Python libraries are required by our custom inference code.\n",
    "\n",
    "When deploying a PyTorch model in SageMaker, you are expected to provide four functions which the SageMaker inference container will use.\n",
    " - `model_fn`: This function is the same function that we used in the training script and it tells SageMaker how to load our model.\n",
    " - `input_fn`: This function receives the raw serialized input that has been sent to the model's endpoint and its job is to de-serialize and make the input available for the inference code.\n",
    " - `output_fn`: This function takes the output of the inference code and its job is to serialize this output and return it to the caller of the model's endpoint.\n",
    " - `predict_fn`: The heart of the inference script, this is where the actual prediction is done and is the function which you will need to complete.\n",
    "\n",
    "For the simple website that we are constructing during this project, the `input_fn` and `output_fn` methods are relatively straightforward. We only require being able to accept a string as input and we expect to return a single value as output. You might imagine though that in a more complex application the input or output may be image data or some other binary data which would require some effort to serialize.\n",
    "\n",
    "### (TODO) Writing inference code\n",
    "\n",
    "Before writing our custom inference code, we will begin by taking a look at the code which has been provided."
   ]
  },
  {
   "cell_type": "code",
   "execution_count": 252,
   "metadata": {},
   "outputs": [
    {
     "name": "stdout",
     "output_type": "stream",
     "text": [
      "\u001b[34mimport\u001b[39;49;00m \u001b[04m\u001b[36margparse\u001b[39;49;00m\r\n",
      "\u001b[34mimport\u001b[39;49;00m \u001b[04m\u001b[36mjson\u001b[39;49;00m\r\n",
      "\u001b[34mimport\u001b[39;49;00m \u001b[04m\u001b[36mos\u001b[39;49;00m\r\n",
      "\u001b[34mimport\u001b[39;49;00m \u001b[04m\u001b[36mpickle\u001b[39;49;00m\r\n",
      "\u001b[34mimport\u001b[39;49;00m \u001b[04m\u001b[36msys\u001b[39;49;00m\r\n",
      "\u001b[34mimport\u001b[39;49;00m \u001b[04m\u001b[36msagemaker_containers\u001b[39;49;00m\r\n",
      "\u001b[34mimport\u001b[39;49;00m \u001b[04m\u001b[36mpandas\u001b[39;49;00m \u001b[34mas\u001b[39;49;00m \u001b[04m\u001b[36mpd\u001b[39;49;00m\r\n",
      "\u001b[34mimport\u001b[39;49;00m \u001b[04m\u001b[36mnumpy\u001b[39;49;00m \u001b[34mas\u001b[39;49;00m \u001b[04m\u001b[36mnp\u001b[39;49;00m\r\n",
      "\u001b[34mimport\u001b[39;49;00m \u001b[04m\u001b[36mtorch\u001b[39;49;00m\r\n",
      "\u001b[34mimport\u001b[39;49;00m \u001b[04m\u001b[36mtorch.nn\u001b[39;49;00m \u001b[34mas\u001b[39;49;00m \u001b[04m\u001b[36mnn\u001b[39;49;00m\r\n",
      "\u001b[34mimport\u001b[39;49;00m \u001b[04m\u001b[36mtorch.optim\u001b[39;49;00m \u001b[34mas\u001b[39;49;00m \u001b[04m\u001b[36moptim\u001b[39;49;00m\r\n",
      "\u001b[34mimport\u001b[39;49;00m \u001b[04m\u001b[36mtorch.utils.data\u001b[39;49;00m\r\n",
      "\u001b[34mimport\u001b[39;49;00m \u001b[04m\u001b[36mnltk\u001b[39;49;00m\r\n",
      "\u001b[34mfrom\u001b[39;49;00m \u001b[04m\u001b[36mnltk.corpus\u001b[39;49;00m \u001b[34mimport\u001b[39;49;00m stopwords\r\n",
      "\u001b[34mfrom\u001b[39;49;00m \u001b[04m\u001b[36mnltk.stem.porter\u001b[39;49;00m \u001b[34mimport\u001b[39;49;00m *\r\n",
      "\u001b[34mimport\u001b[39;49;00m \u001b[04m\u001b[36mre\u001b[39;49;00m\r\n",
      "\u001b[34mfrom\u001b[39;49;00m \u001b[04m\u001b[36mbs4\u001b[39;49;00m \u001b[34mimport\u001b[39;49;00m BeautifulSoup\r\n",
      "\r\n",
      "\u001b[34mfrom\u001b[39;49;00m \u001b[04m\u001b[36mmodel\u001b[39;49;00m \u001b[34mimport\u001b[39;49;00m LSTMClassifier\r\n",
      "\r\n",
      "\u001b[34mfrom\u001b[39;49;00m \u001b[04m\u001b[36mutils\u001b[39;49;00m \u001b[34mimport\u001b[39;49;00m review_to_words, convert_and_pad\r\n",
      "\r\n",
      "\u001b[34mdef\u001b[39;49;00m \u001b[32mmodel_fn\u001b[39;49;00m(model_dir):\r\n",
      "    \u001b[33m\"\"\"Load the PyTorch model from the `model_dir` directory.\"\"\"\u001b[39;49;00m\r\n",
      "    \u001b[34mprint\u001b[39;49;00m(\u001b[33m\"\u001b[39;49;00m\u001b[33mLoading model.\u001b[39;49;00m\u001b[33m\"\u001b[39;49;00m)\r\n",
      "\r\n",
      "    \u001b[37m# First, load the parameters used to create the model.\u001b[39;49;00m\r\n",
      "    model_info = {}\r\n",
      "    model_info_path = os.path.join(model_dir, \u001b[33m'\u001b[39;49;00m\u001b[33mmodel_info.pth\u001b[39;49;00m\u001b[33m'\u001b[39;49;00m)\r\n",
      "    \u001b[34mwith\u001b[39;49;00m \u001b[36mopen\u001b[39;49;00m(model_info_path, \u001b[33m'\u001b[39;49;00m\u001b[33mrb\u001b[39;49;00m\u001b[33m'\u001b[39;49;00m) \u001b[34mas\u001b[39;49;00m f:\r\n",
      "        model_info = torch.load(f)\r\n",
      "\r\n",
      "    \u001b[34mprint\u001b[39;49;00m(\u001b[33m\"\u001b[39;49;00m\u001b[33mmodel_info: {}\u001b[39;49;00m\u001b[33m\"\u001b[39;49;00m.format(model_info))\r\n",
      "\r\n",
      "    \u001b[37m# Determine the device and construct the model.\u001b[39;49;00m\r\n",
      "    device = torch.device(\u001b[33m\"\u001b[39;49;00m\u001b[33mcuda\u001b[39;49;00m\u001b[33m\"\u001b[39;49;00m \u001b[34mif\u001b[39;49;00m torch.cuda.is_available() \u001b[34melse\u001b[39;49;00m \u001b[33m\"\u001b[39;49;00m\u001b[33mcpu\u001b[39;49;00m\u001b[33m\"\u001b[39;49;00m)\r\n",
      "    model = LSTMClassifier(model_info[\u001b[33m'\u001b[39;49;00m\u001b[33membedding_dim\u001b[39;49;00m\u001b[33m'\u001b[39;49;00m], model_info[\u001b[33m'\u001b[39;49;00m\u001b[33mhidden_dim\u001b[39;49;00m\u001b[33m'\u001b[39;49;00m], model_info[\u001b[33m'\u001b[39;49;00m\u001b[33mvocab_size\u001b[39;49;00m\u001b[33m'\u001b[39;49;00m])\r\n",
      "\r\n",
      "    \u001b[37m# Load the store model parameters.\u001b[39;49;00m\r\n",
      "    model_path = os.path.join(model_dir, \u001b[33m'\u001b[39;49;00m\u001b[33mmodel.pth\u001b[39;49;00m\u001b[33m'\u001b[39;49;00m)\r\n",
      "    \u001b[34mwith\u001b[39;49;00m \u001b[36mopen\u001b[39;49;00m(model_path, \u001b[33m'\u001b[39;49;00m\u001b[33mrb\u001b[39;49;00m\u001b[33m'\u001b[39;49;00m) \u001b[34mas\u001b[39;49;00m f:\r\n",
      "        model.load_state_dict(torch.load(f))\r\n",
      "\r\n",
      "    \u001b[37m# Load the saved word_dict.\u001b[39;49;00m\r\n",
      "    word_dict_path = os.path.join(model_dir, \u001b[33m'\u001b[39;49;00m\u001b[33mword_dict.pkl\u001b[39;49;00m\u001b[33m'\u001b[39;49;00m)\r\n",
      "    \u001b[34mwith\u001b[39;49;00m \u001b[36mopen\u001b[39;49;00m(word_dict_path, \u001b[33m'\u001b[39;49;00m\u001b[33mrb\u001b[39;49;00m\u001b[33m'\u001b[39;49;00m) \u001b[34mas\u001b[39;49;00m f:\r\n",
      "        model.word_dict = pickle.load(f)\r\n",
      "\r\n",
      "    model.to(device).eval()\r\n",
      "\r\n",
      "    \u001b[34mprint\u001b[39;49;00m(\u001b[33m\"\u001b[39;49;00m\u001b[33mDone loading model.\u001b[39;49;00m\u001b[33m\"\u001b[39;49;00m)\r\n",
      "    \u001b[34mreturn\u001b[39;49;00m model\r\n",
      "\r\n",
      "\u001b[34mdef\u001b[39;49;00m \u001b[32minput_fn\u001b[39;49;00m(serialized_input_data, content_type):\r\n",
      "    \u001b[34mprint\u001b[39;49;00m(\u001b[33m'\u001b[39;49;00m\u001b[33mDeserializing the input data.\u001b[39;49;00m\u001b[33m'\u001b[39;49;00m)\r\n",
      "    \u001b[34mif\u001b[39;49;00m content_type == \u001b[33m'\u001b[39;49;00m\u001b[33mtext/plain\u001b[39;49;00m\u001b[33m'\u001b[39;49;00m:\r\n",
      "        data = serialized_input_data.decode(\u001b[33m'\u001b[39;49;00m\u001b[33mutf-8\u001b[39;49;00m\u001b[33m'\u001b[39;49;00m)\r\n",
      "        \u001b[34mreturn\u001b[39;49;00m data\r\n",
      "    \u001b[34mraise\u001b[39;49;00m \u001b[36mException\u001b[39;49;00m(\u001b[33m'\u001b[39;49;00m\u001b[33mRequested unsupported ContentType in content_type: \u001b[39;49;00m\u001b[33m'\u001b[39;49;00m + content_type)\r\n",
      "\r\n",
      "\u001b[34mdef\u001b[39;49;00m \u001b[32moutput_fn\u001b[39;49;00m(prediction_output, accept):\r\n",
      "    \u001b[34mprint\u001b[39;49;00m(\u001b[33m'\u001b[39;49;00m\u001b[33mSerializing the generated output.\u001b[39;49;00m\u001b[33m'\u001b[39;49;00m)\r\n",
      "    \u001b[34mreturn\u001b[39;49;00m \u001b[36mstr\u001b[39;49;00m(prediction_output)\r\n",
      "\r\n",
      "\u001b[34mdef\u001b[39;49;00m \u001b[32mreview_to_words\u001b[39;49;00m(review):\r\n",
      "    nltk.download(\u001b[33m\"\u001b[39;49;00m\u001b[33mstopwords\u001b[39;49;00m\u001b[33m\"\u001b[39;49;00m, quiet=\u001b[36mTrue\u001b[39;49;00m)\r\n",
      "    stemmer = PorterStemmer()\r\n",
      "    \r\n",
      "    text = BeautifulSoup(review, \u001b[33m\"\u001b[39;49;00m\u001b[33mhtml.parser\u001b[39;49;00m\u001b[33m\"\u001b[39;49;00m).get_text() \u001b[37m# Remove HTML tags\u001b[39;49;00m\r\n",
      "    text = re.sub(\u001b[33mr\u001b[39;49;00m\u001b[33m\"\u001b[39;49;00m\u001b[33m[^a-zA-Z0-9]\u001b[39;49;00m\u001b[33m\"\u001b[39;49;00m, \u001b[33m\"\u001b[39;49;00m\u001b[33m \u001b[39;49;00m\u001b[33m\"\u001b[39;49;00m, text.lower()) \u001b[37m# Convert to lower case\u001b[39;49;00m\r\n",
      "    words = text.split() \u001b[37m# Split string into words\u001b[39;49;00m\r\n",
      "    words = [w \u001b[34mfor\u001b[39;49;00m w \u001b[35min\u001b[39;49;00m words \u001b[34mif\u001b[39;49;00m w \u001b[35mnot\u001b[39;49;00m \u001b[35min\u001b[39;49;00m stopwords.words(\u001b[33m\"\u001b[39;49;00m\u001b[33menglish\u001b[39;49;00m\u001b[33m\"\u001b[39;49;00m)] \u001b[37m# Remove stopwords\u001b[39;49;00m\r\n",
      "    words = [PorterStemmer().stem(w) \u001b[34mfor\u001b[39;49;00m w \u001b[35min\u001b[39;49;00m words] \u001b[37m# stem\u001b[39;49;00m\r\n",
      "    \r\n",
      "    \u001b[34mreturn\u001b[39;49;00m words\r\n",
      "\r\n",
      "\u001b[34mdef\u001b[39;49;00m \u001b[32mconvert_and_pad\u001b[39;49;00m(word_dict, sentence, pad=\u001b[34m500\u001b[39;49;00m):\r\n",
      "    NOWORD = \u001b[34m0\u001b[39;49;00m \u001b[37m# We will use 0 to represent the 'no word' category\u001b[39;49;00m\r\n",
      "    INFREQ = \u001b[34m1\u001b[39;49;00m \u001b[37m# and we use 1 to represent the infrequent words, i.e., words not appearing in word_dict\u001b[39;49;00m\r\n",
      "    \r\n",
      "    working_sentence = [NOWORD] * pad\r\n",
      "    \r\n",
      "    \u001b[34mfor\u001b[39;49;00m word_index, word \u001b[35min\u001b[39;49;00m \u001b[36menumerate\u001b[39;49;00m(sentence[:pad]):\r\n",
      "        \u001b[37m#print(\"word_index : {}, word {}\".format(word_index, word))\u001b[39;49;00m\r\n",
      "        \u001b[34mif\u001b[39;49;00m word \u001b[35min\u001b[39;49;00m word_dict:\r\n",
      "            working_sentence[word_index] = word_dict[word]\r\n",
      "        \u001b[34melse\u001b[39;49;00m:\r\n",
      "            working_sentence[word_index] = INFREQ\r\n",
      "   \u001b[37m# print(working_sentence, min(len(sentence), pad))\u001b[39;49;00m\r\n",
      "    \u001b[37m#sys.exit(0)\u001b[39;49;00m\r\n",
      "    \u001b[34mreturn\u001b[39;49;00m working_sentence, \u001b[36mmin\u001b[39;49;00m(\u001b[36mlen\u001b[39;49;00m(sentence), pad)\r\n",
      "\r\n",
      "\u001b[34mdef\u001b[39;49;00m \u001b[32mpredict_fn\u001b[39;49;00m(input_data, model):\r\n",
      "    \u001b[34mprint\u001b[39;49;00m(\u001b[33m'\u001b[39;49;00m\u001b[33mInferring sentiment of input data.\u001b[39;49;00m\u001b[33m'\u001b[39;49;00m)\r\n",
      "\r\n",
      "    device = torch.device(\u001b[33m\"\u001b[39;49;00m\u001b[33mcuda\u001b[39;49;00m\u001b[33m\"\u001b[39;49;00m \u001b[34mif\u001b[39;49;00m torch.cuda.is_available() \u001b[34melse\u001b[39;49;00m \u001b[33m\"\u001b[39;49;00m\u001b[33mcpu\u001b[39;49;00m\u001b[33m\"\u001b[39;49;00m)\r\n",
      "    \r\n",
      "    \u001b[34mif\u001b[39;49;00m model.word_dict \u001b[35mis\u001b[39;49;00m \u001b[36mNone\u001b[39;49;00m:\r\n",
      "        \u001b[34mraise\u001b[39;49;00m \u001b[36mException\u001b[39;49;00m(\u001b[33m'\u001b[39;49;00m\u001b[33mModel has not been loaded properly, no word_dict.\u001b[39;49;00m\u001b[33m'\u001b[39;49;00m)\r\n",
      "    \r\n",
      "    \u001b[37m# TODO: Process input_data so that it is ready to be sent to our model.\u001b[39;49;00m\r\n",
      "    \u001b[37m#       You should produce two variables:\u001b[39;49;00m\r\n",
      "    \u001b[37m#         data_X   - A sequence of length 500 which represents the converted review\u001b[39;49;00m\r\n",
      "    \u001b[37m#         data_len - The length of the review\u001b[39;49;00m\r\n",
      "\r\n",
      "    a = review_to_words(input_data)\r\n",
      "    sample_X, l =convert_and_pad(model.word_dict, a, pad=\u001b[34m500\u001b[39;49;00m)\r\n",
      " \u001b[37m#   print(\"sample_X 1: {}, data_len : {}\".format(sample_X, data_len))\u001b[39;49;00m\r\n",
      "    data_X=np.asarray(sample_X)\r\n",
      " \u001b[37m#   print(\"sample_X 2: {}\".format(sample_X))\u001b[39;49;00m\r\n",
      "    \u001b[37m#data_X = np.reshape(sample_X, (1,-1))  \u001b[39;49;00m\r\n",
      "    data_len = np.array([l])\r\n",
      "  \u001b[37m#  print(\"sample_X 3: {}\".format(sample_X))\u001b[39;49;00m\r\n",
      "    \u001b[34mprint\u001b[39;49;00m(\u001b[33m\"\u001b[39;49;00m\u001b[33mdata_X.shape : {}\u001b[39;49;00m\u001b[33m\"\u001b[39;49;00m.format(data_X.shape))\r\n",
      "    \u001b[34mprint\u001b[39;49;00m(\u001b[33m\"\u001b[39;49;00m\u001b[33mdata_len.shape : {}\u001b[39;49;00m\u001b[33m\"\u001b[39;49;00m.format(data_len.shape))\r\n",
      "    \u001b[34mprint\u001b[39;49;00m(\u001b[33m\"\u001b[39;49;00m\u001b[33mdata_len : {}\u001b[39;49;00m\u001b[33m\"\u001b[39;49;00m.format(data_len.shape))\r\n",
      "    \u001b[37m# Using data_X and data_len we construct an appropriate input tensor. Remember\u001b[39;49;00m\r\n",
      "    \u001b[37m# that our model expects input data of the form 'len, review[500]'.\u001b[39;49;00m\r\n",
      "    data_pack = np.concatenate((data_len, data_X))\r\n",
      "    data_pack = data_pack.reshape(\u001b[34m1\u001b[39;49;00m, -\u001b[34m1\u001b[39;49;00m)\r\n",
      "    \r\n",
      "    data = torch.from_numpy(data_pack)\r\n",
      "    data = data.to(device)\r\n",
      "\r\n",
      "    \u001b[37m# Make sure to put the model into evaluation mode\u001b[39;49;00m\r\n",
      "    model.eval()\r\n",
      "\r\n",
      "    \u001b[37m# TODO: Compute the result of applying the model to the input data. The variable `result` should\u001b[39;49;00m\r\n",
      "    \u001b[37m#       be a numpy array which contains a single integer which is either 1 or 0\u001b[39;49;00m\r\n",
      "\r\n",
      "    result = model.forward(data)\r\n",
      "\r\n",
      "    \u001b[34mif\u001b[39;49;00m result > \u001b[34m0.5\u001b[39;49;00m:\r\n",
      "        result = \u001b[36mint\u001b[39;49;00m(\u001b[34m1\u001b[39;49;00m)\r\n",
      "    \u001b[34melse\u001b[39;49;00m:\r\n",
      "        result = \u001b[36mint\u001b[39;49;00m(\u001b[34m0\u001b[39;49;00m)\r\n",
      "    \u001b[34mreturn\u001b[39;49;00m result\r\n"
     ]
    }
   ],
   "source": [
    "!pygmentize serve/predict.py"
   ]
  },
  {
   "cell_type": "markdown",
   "metadata": {},
   "source": [
    "As mentioned earlier, the `model_fn` method is the same as the one provided in the training code and the `input_fn` and `output_fn` methods are very simple and your task will be to complete the `predict_fn` method. Make sure that you save the completed file as `predict.py` in the `serve` directory.\n",
    "\n",
    "**TODO**: Complete the `predict_fn()` method in the `serve/predict.py` file."
   ]
  },
  {
   "cell_type": "markdown",
   "metadata": {},
   "source": [
    "### Deploying the model\n",
    "\n",
    "Now that the custom inference code has been written, we will create and deploy our model. To begin with, we need to construct a new PyTorchModel object which points to the model artifacts created during training and also points to the inference code that we wish to use. Then we can call the deploy method to launch the deployment container.\n",
    "\n",
    "**NOTE**: The default behaviour for a deployed PyTorch model is to assume that any input passed to the predictor is a `numpy` array. In our case we want to send a string so we need to construct a simple wrapper around the `RealTimePredictor` class to accomodate simple strings. In a more complicated situation you may want to provide a serialization object, for example if you wanted to sent image data."
   ]
  },
  {
   "cell_type": "code",
   "execution_count": 236,
   "metadata": {},
   "outputs": [
    {
     "name": "stdout",
     "output_type": "stream",
     "text": [
      "(11,)\n",
      "<class 'numpy.ndarray'>\n"
     ]
    }
   ],
   "source": [
    "import numpy as np\n",
    "l = 1\n",
    "x = np.array([1, 2, 3,4,5,6,7,8,9,10], dtype=np.float)\n",
    "y = np.array([l],dtype=np.int)\n",
    "\n",
    "z = np.hstack((x, y))\n",
    "\n",
    "print(z.shape)\n",
    "print(type(z))"
   ]
  },
  {
   "cell_type": "code",
   "execution_count": 253,
   "metadata": {},
   "outputs": [
    {
     "data": {
      "text/plain": [
       "0"
      ]
     },
     "execution_count": 253,
     "metadata": {},
     "output_type": "execute_result"
    }
   ],
   "source": [
    "x='{}'.format(int(0))\n",
    "int(x)"
   ]
  },
  {
   "cell_type": "code",
   "execution_count": 267,
   "metadata": {},
   "outputs": [
    {
     "name": "stderr",
     "output_type": "stream",
     "text": [
      "INFO:sagemaker:Creating model with name: sagemaker-pytorch-2019-01-26-15-39-02-195\n",
      "INFO:sagemaker:Creating endpoint with name sagemaker-pytorch-2019-01-26-15-39-02-195\n"
     ]
    },
    {
     "name": "stdout",
     "output_type": "stream",
     "text": [
      "-----------------------------------------------------------!"
     ]
    }
   ],
   "source": [
    "from sagemaker.predictor import RealTimePredictor\n",
    "from sagemaker.pytorch import PyTorchModel\n",
    "\n",
    "class StringPredictor(RealTimePredictor):\n",
    "    def __init__(self, endpoint_name, sagemaker_session):\n",
    "        super(StringPredictor, self).__init__(endpoint_name, sagemaker_session, content_type='text/plain')\n",
    "\n",
    "model = PyTorchModel(model_data=estimator.model_data,\n",
    "                     role = role,\n",
    "                     framework_version='0.4.0',\n",
    "                     entry_point='predict.py',\n",
    "                     source_dir='serve',\n",
    "                     predictor_cls=StringPredictor)\n",
    "predictor = model.deploy(initial_instance_count=1, instance_type='ml.m5.xlarge')"
   ]
  },
  {
   "cell_type": "markdown",
   "metadata": {},
   "source": [
    "### Testing the model\n",
    "\n",
    "Now that we have deployed our model with the custom inference code, we should test to see if everything is working. Here we test our model by loading the first `250` positive and negative reviews and send them to the endpoint, then collect the results. The reason for only sending some of the data is that the amount of time it takes for our model to process the input and then perform inference is quite long and so testing the entire data set would be prohibitive."
   ]
  },
  {
   "cell_type": "code",
   "execution_count": 257,
   "metadata": {},
   "outputs": [],
   "source": [
    "import glob\n",
    "\n",
    "def test_reviews(data_dir='../data/aclImdb', stop=250):\n",
    "    \n",
    "    results = []\n",
    "    ground = []\n",
    "    \n",
    "    # We make sure to test both positive and negative reviews    \n",
    "    for sentiment in ['pos', 'neg']:\n",
    "        \n",
    "        path = os.path.join(data_dir, 'test', sentiment, '*.txt')\n",
    "        files = glob.glob(path)\n",
    "        \n",
    "        files_read = 0\n",
    "        \n",
    "        print('Starting ', sentiment, ' files')\n",
    "        \n",
    "        # Iterate through the files and send them to the predictor\n",
    "        for f in files:\n",
    "            with open(f) as review:\n",
    "                # First, we store the ground truth (was the review positive or negative)\n",
    "                if sentiment == 'pos':\n",
    "                    ground.append(1)\n",
    "                else:\n",
    "                    ground.append(0)\n",
    "                # Read in the review and convert to 'utf-8' for transmission via HTTP\n",
    "                review_input = review.read().encode('utf-8')\n",
    "                # Send the review to the predictor and store the results\n",
    "               # print(predictor.predict(review_input))\n",
    "                results.append(int(predictor.predict(review_input)))\n",
    "                \n",
    "            # Sending reviews to our endpoint one at a time takes a while so we\n",
    "            # only send a small number of reviews\n",
    "            files_read += 1\n",
    "            if files_read == stop:\n",
    "                break\n",
    "            \n",
    "    return ground, results"
   ]
  },
  {
   "cell_type": "code",
   "execution_count": 258,
   "metadata": {},
   "outputs": [
    {
     "name": "stdout",
     "output_type": "stream",
     "text": [
      "Starting  pos  files\n",
      "Starting  neg  files\n"
     ]
    }
   ],
   "source": [
    "ground, results = test_reviews()"
   ]
  },
  {
   "cell_type": "code",
   "execution_count": 259,
   "metadata": {},
   "outputs": [
    {
     "data": {
      "text/plain": [
       "0.816"
      ]
     },
     "execution_count": 259,
     "metadata": {},
     "output_type": "execute_result"
    }
   ],
   "source": [
    "from sklearn.metrics import accuracy_score\n",
    "accuracy_score(ground, results)"
   ]
  },
  {
   "cell_type": "markdown",
   "metadata": {},
   "source": [
    "As an additional test, we can try sending the `test_review` that we looked at earlier."
   ]
  },
  {
   "cell_type": "code",
   "execution_count": 260,
   "metadata": {},
   "outputs": [
    {
     "data": {
      "text/plain": [
       "b'1'"
      ]
     },
     "execution_count": 260,
     "metadata": {},
     "output_type": "execute_result"
    }
   ],
   "source": [
    "predictor.predict(test_review)"
   ]
  },
  {
   "cell_type": "markdown",
   "metadata": {},
   "source": [
    "Now that we know our endpoint is working as expected, we can set up the web page that will interact with it. If you don't have time to finish the project now, make sure to skip down to the end of this notebook and shut down your endpoint. You can deploy it again when you come back."
   ]
  },
  {
   "cell_type": "markdown",
   "metadata": {},
   "source": [
    "## Step 7 (again): Use the model for the web app\n",
    "\n",
    "> **TODO:** This entire section and the next contain tasks for you to complete, mostly using the AWS console.\n",
    "\n",
    "So far we have been accessing our model endpoint by constructing a predictor object which uses the endpoint and then just using the predictor object to perform inference. What if we wanted to create a web app which accessed our model? The way things are set up currently makes that not possible since in order to access a SageMaker endpoint the app would first have to authenticate with AWS using an IAM role which included access to SageMaker endpoints. However, there is an easier way! We just need to use some additional AWS services.\n",
    "\n",
    "<img src=\"Web App Diagram.svg\">\n",
    "\n",
    "The diagram above gives an overview of how the various services will work together. On the far right is the model which we trained above and which is deployed using SageMaker. On the far left is our web app that collects a user's movie review, sends it off and expects a positive or negative sentiment in return.\n",
    "\n",
    "In the middle is where some of the magic happens. We will construct a Lambda function, which you can think of as a straightforward Python function that can be executed whenever a specified event occurs. We will give this function permission to send and recieve data from a SageMaker endpoint.\n",
    "\n",
    "Lastly, the method we will use to execute the Lambda function is a new endpoint that we will create using API Gateway. This endpoint will be a url that listens for data to be sent to it. Once it gets some data it will pass that data on to the Lambda function and then return whatever the Lambda function returns. Essentially it will act as an interface that lets our web app communicate with the Lambda function.\n",
    "\n",
    "### Setting up a Lambda function\n",
    "\n",
    "The first thing we are going to do is set up a Lambda function. This Lambda function will be executed whenever our public API has data sent to it. When it is executed it will receive the data, perform any sort of processing that is required, send the data (the review) to the SageMaker endpoint we've created and then return the result.\n",
    "\n",
    "#### Part A: Create an IAM Role for the Lambda function\n",
    "\n",
    "Since we want the Lambda function to call a SageMaker endpoint, we need to make sure that it has permission to do so. To do this, we will construct a role that we can later give the Lambda function.\n",
    "\n",
    "Using the AWS Console, navigate to the **IAM** page and click on **Roles**. Then, click on **Create role**. Make sure that the **AWS service** is the type of trusted entity selected and choose **Lambda** as the service that will use this role, then click **Next: Permissions**.\n",
    "\n",
    "In the search box type `sagemaker` and select the check box next to the **AmazonSageMakerFullAccess** policy. Then, click on **Next: Review**.\n",
    "\n",
    "Lastly, give this role a name. Make sure you use a name that you will remember later on, for example `LambdaSageMakerRole`. Then, click on **Create role**.\n",
    "\n",
    "#### Part B: Create a Lambda function\n",
    "\n",
    "Now it is time to actually create the Lambda function.\n",
    "\n",
    "Using the AWS Console, navigate to the AWS Lambda page and click on **Create a function**. When you get to the next page, make sure that **Author from scratch** is selected. Now, name your Lambda function, using a name that you will remember later on, for example `sentiment_analysis_func`. Make sure that the **Python 3.6** runtime is selected and then choose the role that you created in the previous part. Then, click on **Create Function**.\n",
    "\n",
    "On the next page you will see some information about the Lambda function you've just created. If you scroll down you should see an editor in which you can write the code that will be executed when your Lambda function is triggered. In our example, we will use the code below. \n",
    "\n",
    "```python\n",
    "# We need to use the low-level library to interact with SageMaker since the SageMaker API\n",
    "# is not available natively through Lambda.\n",
    "import boto3\n",
    "\n",
    "def lambda_handler(event, context):\n",
    "\n",
    "    # The SageMaker runtime is what allows us to invoke the endpoint that we've created.\n",
    "    runtime = boto3.Session().client('sagemaker-runtime')\n",
    "\n",
    "    # Now we use the SageMaker runtime to invoke our endpoint, sending the review we were given\n",
    "    response = runtime.invoke_endpoint(EndpointName = '**ENDPOINT NAME HERE**',    # The name of the endpoint we created\n",
    "                                       ContentType = 'text/plain',                 # The data format that is expected\n",
    "                                       Body = event['body'])                       # The actual review\n",
    "\n",
    "    # The response is an HTTP response whose body contains the result of our inference\n",
    "    result = response['Body'].read().decode('utf-8')\n",
    "\n",
    "    return {\n",
    "        'statusCode' : 200,\n",
    "        'headers' : { 'Content-Type' : 'text/plain', 'Access-Control-Allow-Origin' : '*' },\n",
    "        'body' : result\n",
    "    }\n",
    "```\n",
    "\n",
    "Once you have copy and pasted the code above into the Lambda code editor, replace the `**ENDPOINT NAME HERE**` portion with the name of the endpoint that we deployed earlier. You can determine the name of the endpoint using the code cell below."
   ]
  },
  {
   "cell_type": "code",
   "execution_count": 268,
   "metadata": {},
   "outputs": [
    {
     "data": {
      "text/plain": [
       "'sagemaker-pytorch-2019-01-26-15-39-02-195'"
      ]
     },
     "execution_count": 268,
     "metadata": {},
     "output_type": "execute_result"
    }
   ],
   "source": [
    "predictor.endpoint"
   ]
  },
  {
   "cell_type": "markdown",
   "metadata": {},
   "source": [
    "Once you have added the endpoint name to the Lambda function, click on **Save**. Your Lambda function is now up and running. Next we need to create a way for our web app to execute the Lambda function.\n",
    "\n",
    "### Setting up API Gateway\n",
    "\n",
    "Now that our Lambda function is set up, it is time to create a new API using API Gateway that will trigger the Lambda function we have just created.\n",
    "\n",
    "Using AWS Console, navigate to **Amazon API Gateway** and then click on **Get started**.\n",
    "\n",
    "On the next page, make sure that **New API** is selected and give the new api a name, for example, `sentiment_analysis_api`. Then, click on **Create API**.\n",
    "\n",
    "Now we have created an API, however it doesn't currently do anything. What we want it to do is to trigger the Lambda function that we created earlier.\n",
    "\n",
    "Select the **Actions** dropdown menu and click **Create Method**. A new blank method will be created, select its dropdown menu and select **POST**, then click on the check mark beside it.\n",
    "\n",
    "For the integration point, make sure that **Lambda Function** is selected and click on the **Use Lambda Proxy integration**. This option makes sure that the data that is sent to the API is then sent directly to the Lambda function with no processing. It also means that the return value must be a proper response object as it will also not be processed by API Gateway.\n",
    "\n",
    "Type the name of the Lambda function you created earlier into the **Lambda Function** text entry box and then click on **Save**. Click on **OK** in the pop-up box that then appears, giving permission to API Gateway to invoke the Lambda function you created.\n",
    "\n",
    "The last step in creating the API Gateway is to select the **Actions** dropdown and click on **Deploy API**. You will need to create a new Deployment stage and name it anything you like, for example `prod`.\n",
    "\n",
    "You have now successfully set up a public API to access your SageMaker model. Make sure to copy or write down the URL provided to invoke your newly created public API as this will be needed in the next step. This URL can be found at the top of the page, highlighted in blue next to the text **Invoke URL**."
   ]
  },
  {
   "cell_type": "markdown",
   "metadata": {},
   "source": [
    "## Step 4: Deploying our web app\n",
    "\n",
    "Now that we have a publicly available API, we can start using it in a web app. For our purposes, we have provided a simple static html file which can make use of the public api you created earlier.\n",
    "\n",
    "In the `website` folder there should be a file called `index.html`. Download the file to your computer and open that file up in a text editor of your choice. There should be a line which contains **\\*\\*REPLACE WITH PUBLIC API URL\\*\\***. Replace this string with the url that you wrote down in the last step and then save the file.\n",
    "\n",
    "Now, if you open `index.html` on your local computer, your browser will behave as a local web server and you can use the provided site to interact with your SageMaker model.\n",
    "\n",
    "If you'd like to go further, you can host this html file anywhere you'd like, for example using github or hosting a static site on Amazon's S3. Once you have done this you can share the link with anyone you'd like and have them play with it too!\n",
    "\n",
    "> **Important Note** In order for the web app to communicate with the SageMaker endpoint, the endpoint has to actually be deployed and running. This means that you are paying for it. Make sure that the endpoint is running when you want to use the web app but that you shut it down when you don't need it, otherwise you will end up with a surprisingly large AWS bill.\n",
    "\n",
    "**TODO:** Make sure that you include the edited `index.html` file in your project submission."
   ]
  },
  {
   "cell_type": "markdown",
   "metadata": {},
   "source": [
    "Now that your web app is working, trying playing around with it and see how well it works.\n",
    "\n",
    "**Question**: Give an example of a review that you entered into your web app. What was the predicted sentiment of your example review?"
   ]
  },
  {
   "cell_type": "markdown",
   "metadata": {},
   "source": [
    "**Answer:**\n",
    "\"Fifty Shades of Grey\" is based on a badly written book, so why someone thought they could make a decent film out of it is beyond me. Actually I don't think anyone believed they could make a good film, the producers just wanted the money that would come in from all people who for reasons known only to themselves read the book.\n",
    "\n",
    "I had a free ticket and I had to go in order to do a story on it. Bottom line, I'm not doing a story on it.\n",
    "\n",
    "Okay, here's the problem, and this is what breaks my heart. We no longer know what good or great is. I am no follower of Ayn Rand, but in The Fountainhead, she predicted the rise of mediocrity, mediocrity being considered great and the norm we shoot for. It only stands to reason that at this point, some things can't even rise to that sad level. This isn't mediocre, it's pathetic. I can't believe there are people complimenting the actors. But then I can, because they have come to accept mediocrity. Something I fight against with all my heart.\n",
    "\n",
    "There is one other problem. The book sucked; in order to like it, one had to use his or her imagination. The success of this book lay in the fantasy aspect. Sometimes imagination is more powerful than just about anything and can give you an erotic experience. This film doesn't fulfill the most inane imagination, let alone someone who really has a wild and creative one. The only fantasy it can give you is how fast you can get out of the theater.\n",
    "\n",
    "There were people around me laughing. The ones who weren't left, and from what I found out in the lobby, actually demanded and got their money back. When was the last time you saw people leaving a movie in the middle? I'm not sure I've ever seen it, and I'll guess I've been going to movies longer than a lot of you.\n",
    "\n",
    "I lament the loss of artistic soul, of creativity, of going for the best. I miss the days when Billy Wilder was a writer and a filmmaker. What are we left with but a horrible book written on a first grade level and the resulting bad movie.\n",
    "\n",
    "\n",
    "1 star review => predicted \"Your review was NEGATIVE!\"\n"
   ]
  },
  {
   "cell_type": "markdown",
   "metadata": {},
   "source": [
    "### Delete the endpoint\n",
    "\n",
    "Remember to always shut down your endpoint if you are no longer using it. You are charged for the length of time that the endpoint is running so if you forget and leave it on you could end up with an unexpectedly large bill."
   ]
  },
  {
   "cell_type": "code",
   "execution_count": null,
   "metadata": {},
   "outputs": [],
   "source": [
    "predictor.delete_endpoint()"
   ]
  },
  {
   "cell_type": "code",
   "execution_count": null,
   "metadata": {},
   "outputs": [],
   "source": []
  }
 ],
 "metadata": {
  "kernelspec": {
   "display_name": "conda_pytorch_p36",
   "language": "python",
   "name": "conda_pytorch_p36"
  },
  "language_info": {
   "codemirror_mode": {
    "name": "ipython",
    "version": 3
   },
   "file_extension": ".py",
   "mimetype": "text/x-python",
   "name": "python",
   "nbconvert_exporter": "python",
   "pygments_lexer": "ipython3",
   "version": "3.6.5"
  }
 },
 "nbformat": 4,
 "nbformat_minor": 2
}
